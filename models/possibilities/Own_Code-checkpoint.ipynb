{
 "cells": [
  {
   "cell_type": "markdown",
   "id": "bd267ddf-aca7-4abf-a4c0-2d3f38d33b57",
   "metadata": {},
   "source": [
    "## Pre Processing"
   ]
  },
  {
   "cell_type": "code",
   "execution_count": null,
   "id": "0f63ae7b",
   "metadata": {},
   "outputs": [],
   "source": []
  },
  {
   "cell_type": "code",
   "execution_count": 1,
   "id": "dfae7c97-9e30-4cd7-b501-23363d8ca046",
   "metadata": {},
   "outputs": [],
   "source": [
    "import pandas as pd\n",
    "import numpy as np\n",
    "import os\n",
    "from sklearn.preprocessing import LabelEncoder, MinMaxScaler, StandardScaler\n",
    "import keras\n",
    "import math\n",
    "from tensorflow.keras.preprocessing.text import Tokenizer\n",
    "from keras.utils import pad_sequences\n",
    "import sys"
   ]
  },
  {
   "cell_type": "code",
   "execution_count": 2,
   "id": "1dd05154-fb0a-4109-802a-9547b84430ba",
   "metadata": {},
   "outputs": [],
   "source": [
    "orig=pd.read_csv('dataset.csv')"
   ]
  },
  {
   "cell_type": "code",
   "execution_count": 3,
   "id": "9efaf885-d90d-4966-898d-08a4dcbf773c",
   "metadata": {},
   "outputs": [],
   "source": [
    "orig = orig.replace(' ',np.nan)"
   ]
  },
  {
   "cell_type": "code",
   "execution_count": 4,
   "id": "05d6eb7a-6614-4aca-a476-0454302716b9",
   "metadata": {},
   "outputs": [
    {
     "data": {
      "text/html": [
       "<div>\n",
       "<style scoped>\n",
       "    .dataframe tbody tr th:only-of-type {\n",
       "        vertical-align: middle;\n",
       "    }\n",
       "\n",
       "    .dataframe tbody tr th {\n",
       "        vertical-align: top;\n",
       "    }\n",
       "\n",
       "    .dataframe thead th {\n",
       "        text-align: right;\n",
       "    }\n",
       "</style>\n",
       "<table border=\"1\" class=\"dataframe\">\n",
       "  <thead>\n",
       "    <tr style=\"text-align: right;\">\n",
       "      <th></th>\n",
       "      <th>category_1</th>\n",
       "      <th>category_2</th>\n",
       "      <th>category_3</th>\n",
       "      <th>title</th>\n",
       "      <th>product_rating</th>\n",
       "      <th>selling_price</th>\n",
       "      <th>mrp</th>\n",
       "      <th>seller_name</th>\n",
       "      <th>seller_rating</th>\n",
       "      <th>description</th>\n",
       "      <th>highlights</th>\n",
       "      <th>specifications</th>\n",
       "      <th>image_links</th>\n",
       "    </tr>\n",
       "  </thead>\n",
       "  <tbody>\n",
       "    <tr>\n",
       "      <th>0</th>\n",
       "      <td>Sports, Books and More</td>\n",
       "      <td>Sports</td>\n",
       "      <td>Cricket</td>\n",
       "      <td>ITWOSERVICES CRICKET NET 100X10 CRICKET NET NY...</td>\n",
       "      <td>4.4</td>\n",
       "      <td>₹1,615</td>\n",
       "      <td>₹4,000</td>\n",
       "      <td>I2SERVICES</td>\n",
       "      <td>4.4</td>\n",
       "      <td>NaN</td>\n",
       "      <td>Cricket Practice Net NYLON HDPE Material W x H...</td>\n",
       "      <td>NaN</td>\n",
       "      <td>https://rukminim1.flixcart.com/image/612/612/x...</td>\n",
       "    </tr>\n",
       "    <tr>\n",
       "      <th>1</th>\n",
       "      <td>Sports, Books and More</td>\n",
       "      <td>Sports</td>\n",
       "      <td>Cricket</td>\n",
       "      <td>ITWOSERVICES CRICKET NET GROUND BOUNDARY NET 1...</td>\n",
       "      <td>4.4</td>\n",
       "      <td>₹152</td>\n",
       "      <td>₹600</td>\n",
       "      <td>I2SERVICES</td>\n",
       "      <td>4.4</td>\n",
       "      <td>10 X  10 GREEN CRICKET NET HDPE NYLON.</td>\n",
       "      <td>Cricket HDPE NYLON Material W x H x D: 3.048 x...</td>\n",
       "      <td>NaN</td>\n",
       "      <td>https://rukminim1.flixcart.com/image/612/612/x...</td>\n",
       "    </tr>\n",
       "    <tr>\n",
       "      <th>2</th>\n",
       "      <td>Sports, Books and More</td>\n",
       "      <td>Sports</td>\n",
       "      <td>Cricket</td>\n",
       "      <td>VICTORY Medium Weight ( Pack of 1 ) Rubber Cri...</td>\n",
       "      <td>3.7</td>\n",
       "      <td>₹59</td>\n",
       "      <td>₹199</td>\n",
       "      <td>VictoryOutlets</td>\n",
       "      <td>4.7</td>\n",
       "      <td>NaN</td>\n",
       "      <td>Cricket Rubber Ball Weight: 110 g</td>\n",
       "      <td>NaN</td>\n",
       "      <td>https://rukminim1.flixcart.com/image/612/612/x...</td>\n",
       "    </tr>\n",
       "    <tr>\n",
       "      <th>3</th>\n",
       "      <td>Sports, Books and More</td>\n",
       "      <td>Sports</td>\n",
       "      <td>Cricket</td>\n",
       "      <td>VICTORY Cricket Wind Ball (Pack of 1) - Made i...</td>\n",
       "      <td>3.8</td>\n",
       "      <td>₹75</td>\n",
       "      <td>₹299</td>\n",
       "      <td>VictoryOutlets</td>\n",
       "      <td>4.7</td>\n",
       "      <td>NaN</td>\n",
       "      <td>Cricket Synthetic Ball Weight: 110 g</td>\n",
       "      <td>NaN</td>\n",
       "      <td>https://rukminim1.flixcart.com/image/612/612/k...</td>\n",
       "    </tr>\n",
       "    <tr>\n",
       "      <th>4</th>\n",
       "      <td>Sports, Books and More</td>\n",
       "      <td>Sports</td>\n",
       "      <td>Cricket</td>\n",
       "      <td>CEAT Hitman Full Size Double Blade Poplar Cric...</td>\n",
       "      <td>3.4</td>\n",
       "      <td>₹329</td>\n",
       "      <td>₹1,399</td>\n",
       "      <td>IndiaFit</td>\n",
       "      <td>4.7</td>\n",
       "      <td>The Ceat Poplar Willow Cricket Bat has been de...</td>\n",
       "      <td>Age Group 15+ Yrs Blade Made of Poplar Willow ...</td>\n",
       "      <td>NaN</td>\n",
       "      <td>https://rukminim1.flixcart.com/image/612/612/j...</td>\n",
       "    </tr>\n",
       "  </tbody>\n",
       "</table>\n",
       "</div>"
      ],
      "text/plain": [
       "               category_1 category_2 category_3  \\\n",
       "0  Sports, Books and More     Sports   Cricket    \n",
       "1  Sports, Books and More     Sports   Cricket    \n",
       "2  Sports, Books and More     Sports   Cricket    \n",
       "3  Sports, Books and More     Sports   Cricket    \n",
       "4  Sports, Books and More     Sports   Cricket    \n",
       "\n",
       "                                               title  product_rating  \\\n",
       "0  ITWOSERVICES CRICKET NET 100X10 CRICKET NET NY...             4.4   \n",
       "1  ITWOSERVICES CRICKET NET GROUND BOUNDARY NET 1...             4.4   \n",
       "2  VICTORY Medium Weight ( Pack of 1 ) Rubber Cri...             3.7   \n",
       "3  VICTORY Cricket Wind Ball (Pack of 1) - Made i...             3.8   \n",
       "4  CEAT Hitman Full Size Double Blade Poplar Cric...             3.4   \n",
       "\n",
       "  selling_price     mrp     seller_name  seller_rating  \\\n",
       "0        ₹1,615  ₹4,000      I2SERVICES            4.4   \n",
       "1          ₹152    ₹600      I2SERVICES            4.4   \n",
       "2           ₹59    ₹199  VictoryOutlets            4.7   \n",
       "3           ₹75    ₹299  VictoryOutlets            4.7   \n",
       "4          ₹329  ₹1,399        IndiaFit            4.7   \n",
       "\n",
       "                                         description  \\\n",
       "0                                                NaN   \n",
       "1             10 X  10 GREEN CRICKET NET HDPE NYLON.   \n",
       "2                                                NaN   \n",
       "3                                                NaN   \n",
       "4  The Ceat Poplar Willow Cricket Bat has been de...   \n",
       "\n",
       "                                          highlights  specifications  \\\n",
       "0  Cricket Practice Net NYLON HDPE Material W x H...             NaN   \n",
       "1  Cricket HDPE NYLON Material W x H x D: 3.048 x...             NaN   \n",
       "2                  Cricket Rubber Ball Weight: 110 g             NaN   \n",
       "3               Cricket Synthetic Ball Weight: 110 g             NaN   \n",
       "4  Age Group 15+ Yrs Blade Made of Poplar Willow ...             NaN   \n",
       "\n",
       "                                         image_links  \n",
       "0  https://rukminim1.flixcart.com/image/612/612/x...  \n",
       "1  https://rukminim1.flixcart.com/image/612/612/x...  \n",
       "2  https://rukminim1.flixcart.com/image/612/612/x...  \n",
       "3  https://rukminim1.flixcart.com/image/612/612/k...  \n",
       "4  https://rukminim1.flixcart.com/image/612/612/j...  "
      ]
     },
     "execution_count": 4,
     "metadata": {},
     "output_type": "execute_result"
    }
   ],
   "source": [
    "orig.head()"
   ]
  },
  {
   "cell_type": "code",
   "execution_count": 5,
   "id": "fbe676ef-5a90-4a58-abe1-10e0139a4ebf",
   "metadata": {},
   "outputs": [
    {
     "data": {
      "text/plain": [
       "category_1            0\n",
       "category_2            0\n",
       "category_3            0\n",
       "title                18\n",
       "product_rating       80\n",
       "selling_price        28\n",
       "mrp                 375\n",
       "seller_name         216\n",
       "seller_rating       214\n",
       "description        7020\n",
       "highlights         5481\n",
       "specifications    12041\n",
       "image_links           0\n",
       "dtype: int64"
      ]
     },
     "execution_count": 5,
     "metadata": {},
     "output_type": "execute_result"
    }
   ],
   "source": [
    "orig.isna().sum()"
   ]
  },
  {
   "cell_type": "code",
   "execution_count": 6,
   "id": "ff6d50d9-94c3-4d15-af31-efcdc708c0a9",
   "metadata": {},
   "outputs": [],
   "source": [
    "orig = orig.drop(['highlights','specifications','mrp','image_links'],axis=1)"
   ]
  },
  {
   "cell_type": "code",
   "execution_count": 7,
   "id": "e3578129-27f8-4c6e-a7d4-af22c8940227",
   "metadata": {},
   "outputs": [],
   "source": [
    "dataset = orig.dropna().reset_index(drop = True)"
   ]
  },
  {
   "cell_type": "code",
   "execution_count": 8,
   "id": "2fea9fc8-7f16-4a09-a32b-76bd8d32bc32",
   "metadata": {},
   "outputs": [
    {
     "name": "stderr",
     "output_type": "stream",
     "text": [
      "C:\\Users\\prasa\\AppData\\Local\\Temp\\ipykernel_4692\\4294518981.py:7: SettingWithCopyWarning: \n",
      "A value is trying to be set on a copy of a slice from a DataFrame\n",
      "\n",
      "See the caveats in the documentation: https://pandas.pydata.org/pandas-docs/stable/user_guide/indexing.html#returning-a-view-versus-a-copy\n",
      "  dataset.selling_price[i]=int(k)\n"
     ]
    }
   ],
   "source": [
    "for i in dataset.selling_price.index:\n",
    "    k = ''\n",
    "    for j in dataset.selling_price[i]:\n",
    "        if j==',' or j == '₹':\n",
    "            continue\n",
    "        k=k+j\n",
    "    dataset.selling_price[i]=int(k)\n",
    "        "
   ]
  },
  {
   "cell_type": "code",
   "execution_count": 9,
   "id": "689f87bb-2dc1-4529-8bea-53a6d6b456cd",
   "metadata": {},
   "outputs": [],
   "source": [
    "dataset.selling_price = dataset.selling_price.astype(int)"
   ]
  },
  {
   "cell_type": "code",
   "execution_count": 10,
   "id": "288a42f5-b3c8-4e1a-b8a3-f12fde375fb9",
   "metadata": {},
   "outputs": [],
   "source": [
    "dataset.product_rating = dataset.product_rating.astype(float)\n",
    "dataset.seller_rating = dataset.seller_rating.astype(float)"
   ]
  },
  {
   "cell_type": "code",
   "execution_count": 11,
   "id": "963c533e-9a89-43dd-94a1-f5483ff8b211",
   "metadata": {},
   "outputs": [
    {
     "name": "stdout",
     "output_type": "stream",
     "text": [
      "<class 'pandas.core.frame.DataFrame'>\n",
      "RangeIndex: 4941 entries, 0 to 4940\n",
      "Data columns (total 9 columns):\n",
      " #   Column          Non-Null Count  Dtype  \n",
      "---  ------          --------------  -----  \n",
      " 0   category_1      4941 non-null   object \n",
      " 1   category_2      4941 non-null   object \n",
      " 2   category_3      4941 non-null   object \n",
      " 3   title           4941 non-null   object \n",
      " 4   product_rating  4941 non-null   float64\n",
      " 5   selling_price   4941 non-null   int32  \n",
      " 6   seller_name     4941 non-null   object \n",
      " 7   seller_rating   4941 non-null   float64\n",
      " 8   description     4941 non-null   object \n",
      "dtypes: float64(2), int32(1), object(6)\n",
      "memory usage: 328.2+ KB\n"
     ]
    }
   ],
   "source": [
    "dataset.info()"
   ]
  },
  {
   "cell_type": "code",
   "execution_count": 12,
   "id": "7e270980-5e43-47f9-bacf-55f4350d7399",
   "metadata": {},
   "outputs": [],
   "source": [
    "le = LabelEncoder()"
   ]
  },
  {
   "cell_type": "code",
   "execution_count": 14,
   "id": "65b8abd6-9be9-494d-82d6-cf17fc01242d",
   "metadata": {},
   "outputs": [],
   "source": [
    "dataset = dataset.drop(['seller_name'],axis = 1)"
   ]
  },
  {
   "cell_type": "code",
   "execution_count": 15,
   "id": "5ae9e8b6-beba-4b37-8e64-b44ec8d0623c",
   "metadata": {},
   "outputs": [],
   "source": [
    "all_word = np.hstack([dataset.title.str.lower(),dataset.description.str.lower()])"
   ]
  },
  {
   "cell_type": "code",
   "execution_count": 16,
   "id": "70144f34-8880-4115-a957-ba72b05450bf",
   "metadata": {},
   "outputs": [],
   "source": [
    "tokenizer = Tokenizer()"
   ]
  },
  {
   "cell_type": "code",
   "execution_count": 17,
   "id": "7156ada8-0f78-4911-b690-80e5d0d9e8cb",
   "metadata": {},
   "outputs": [],
   "source": [
    "tokenizer.fit_on_texts(all_word)"
   ]
  },
  {
   "cell_type": "code",
   "execution_count": 18,
   "id": "2a2254b4-a032-4931-950c-764118f040cf",
   "metadata": {},
   "outputs": [],
   "source": [
    "dataset.title = tokenizer.texts_to_sequences(dataset.title.str.lower())\n",
    "dataset.description = tokenizer.texts_to_sequences(dataset.description.str.lower())"
   ]
  },
  {
   "cell_type": "code",
   "execution_count": 19,
   "id": "c3c031a4-44f2-4781-af46-4663d95f6c2c",
   "metadata": {},
   "outputs": [
    {
     "data": {
      "text/plain": [
       "<Axes: >"
      ]
     },
     "execution_count": 19,
     "metadata": {},
     "output_type": "execute_result"
    },
    {
     "data": {
      "image/png": "[encoded data removed]",
      "text/plain": [
       "<Figure size 640x480 with 1 Axes>"
      ]
     },
     "metadata": {},
     "output_type": "display_data"
    }
   ],
   "source": [
    "dataset.title.apply(lambda x:len(x)).plot(kind = 'box')"
   ]
  },
  {
   "cell_type": "code",
   "execution_count": 20,
   "id": "f1ccac97-da61-4090-b22d-cdf418b0d68e",
   "metadata": {},
   "outputs": [
    {
     "data": {
      "text/plain": [
       "<Axes: >"
      ]
     },
     "execution_count": 20,
     "metadata": {},
     "output_type": "execute_result"
    },
    {
     "data": {
      "image/png": "[encoded data removed]",
      "text/plain": [
       "<Figure size 640x480 with 1 Axes>"
      ]
     },
     "metadata": {},
     "output_type": "display_data"
    }
   ],
   "source": [
    "dataset.description.apply(lambda x:len(x)).plot(kind = 'box')"
   ]
  },
  {
   "cell_type": "code",
   "execution_count": 21,
   "id": "a1f7cf28-4ff8-4144-97cc-8473f56fb364",
   "metadata": {},
   "outputs": [],
   "source": [
    "max_title = 32\n",
    "max_description = 64"
   ]
  },
  {
   "cell_type": "code",
   "execution_count": 22,
   "id": "b36fd226-c4e4-43b9-b032-0c8873c7fb27",
   "metadata": {},
   "outputs": [
    {
     "data": {
      "text/html": [
       "<div>\n",
       "<style scoped>\n",
       "    .dataframe tbody tr th:only-of-type {\n",
       "        vertical-align: middle;\n",
       "    }\n",
       "\n",
       "    .dataframe tbody tr th {\n",
       "        vertical-align: top;\n",
       "    }\n",
       "\n",
       "    .dataframe thead th {\n",
       "        text-align: right;\n",
       "    }\n",
       "</style>\n",
       "<table border=\"1\" class=\"dataframe\">\n",
       "  <thead>\n",
       "    <tr style=\"text-align: right;\">\n",
       "      <th></th>\n",
       "      <th>category_1</th>\n",
       "      <th>category_2</th>\n",
       "      <th>category_3</th>\n",
       "      <th>title</th>\n",
       "      <th>product_rating</th>\n",
       "      <th>selling_price</th>\n",
       "      <th>seller_rating</th>\n",
       "      <th>description</th>\n",
       "    </tr>\n",
       "  </thead>\n",
       "  <tbody>\n",
       "    <tr>\n",
       "      <th>0</th>\n",
       "      <td>4</td>\n",
       "      <td>48</td>\n",
       "      <td>47</td>\n",
       "      <td>[15085, 1335, 1319, 4225, 11612, 1319, 9855, 6...</td>\n",
       "      <td>4.4</td>\n",
       "      <td>152</td>\n",
       "      <td>4.4</td>\n",
       "      <td>[111, 77, 111, 343, 1335, 1319, 5068, 1032]</td>\n",
       "    </tr>\n",
       "    <tr>\n",
       "      <th>1</th>\n",
       "      <td>4</td>\n",
       "      <td>48</td>\n",
       "      <td>47</td>\n",
       "      <td>[7667, 11613, 234, 71, 251, 782, 5234, 1335, 1...</td>\n",
       "      <td>3.4</td>\n",
       "      <td>329</td>\n",
       "      <td>4.7</td>\n",
       "      <td>[2, 7667, 5234, 4951, 1335, 1320, 35, 291, 60,...</td>\n",
       "    </tr>\n",
       "    <tr>\n",
       "      <th>2</th>\n",
       "      <td>4</td>\n",
       "      <td>48</td>\n",
       "      <td>47</td>\n",
       "      <td>[3359, 77, 1335, 1320, 334, 310, 11614, 221, 6...</td>\n",
       "      <td>4.1</td>\n",
       "      <td>369</td>\n",
       "      <td>4.1</td>\n",
       "      <td>[3359, 77, 1335, 1197, 11614, 1320, 152, 74, 5...</td>\n",
       "    </tr>\n",
       "    <tr>\n",
       "      <th>3</th>\n",
       "      <td>4</td>\n",
       "      <td>48</td>\n",
       "      <td>47</td>\n",
       "      <td>[4446, 234, 71, 408, 365, 119, 1335, 1320, 4, ...</td>\n",
       "      <td>4.0</td>\n",
       "      <td>249</td>\n",
       "      <td>4.8</td>\n",
       "      <td>[4446, 365, 119, 234, 71, 1335, 1320, 167, 4, ...</td>\n",
       "    </tr>\n",
       "    <tr>\n",
       "      <th>4</th>\n",
       "      <td>4</td>\n",
       "      <td>48</td>\n",
       "      <td>47</td>\n",
       "      <td>[4446, 3605, 1335, 1320, 71, 32, 4, 421, 1300,...</td>\n",
       "      <td>3.9</td>\n",
       "      <td>249</td>\n",
       "      <td>4.8</td>\n",
       "      <td>[4446, 3605, 1335, 1320, 71, 32, 4, 421, 1300,...</td>\n",
       "    </tr>\n",
       "  </tbody>\n",
       "</table>\n",
       "</div>"
      ],
      "text/plain": [
       "   category_1  category_2  category_3  \\\n",
       "0           4          48          47   \n",
       "1           4          48          47   \n",
       "2           4          48          47   \n",
       "3           4          48          47   \n",
       "4           4          48          47   \n",
       "\n",
       "                                               title  product_rating  \\\n",
       "0  [15085, 1335, 1319, 4225, 11612, 1319, 9855, 6...             4.4   \n",
       "1  [7667, 11613, 234, 71, 251, 782, 5234, 1335, 1...             3.4   \n",
       "2  [3359, 77, 1335, 1320, 334, 310, 11614, 221, 6...             4.1   \n",
       "3  [4446, 234, 71, 408, 365, 119, 1335, 1320, 4, ...             4.0   \n",
       "4  [4446, 3605, 1335, 1320, 71, 32, 4, 421, 1300,...             3.9   \n",
       "\n",
       "   selling_price  seller_rating  \\\n",
       "0            152            4.4   \n",
       "1            329            4.7   \n",
       "2            369            4.1   \n",
       "3            249            4.8   \n",
       "4            249            4.8   \n",
       "\n",
       "                                         description  \n",
       "0        [111, 77, 111, 343, 1335, 1319, 5068, 1032]  \n",
       "1  [2, 7667, 5234, 4951, 1335, 1320, 35, 291, 60,...  \n",
       "2  [3359, 77, 1335, 1197, 11614, 1320, 152, 74, 5...  \n",
       "3  [4446, 365, 119, 234, 71, 1335, 1320, 167, 4, ...  \n",
       "4  [4446, 3605, 1335, 1320, 71, 32, 4, 421, 1300,...  "
      ]
     },
     "execution_count": 22,
     "metadata": {},
     "output_type": "execute_result"
    }
   ],
   "source": [
    "dataset.head()"
   ]
  },
  {
   "cell_type": "code",
   "execution_count": 34,
   "id": "57832104",
   "metadata": {},
   "outputs": [],
   "source": [
    "dataset.to_csv('preprocessed_dataset.csv', index=False)"
   ]
  },
  {
   "cell_type": "code",
   "execution_count": 36,
   "id": "88d538e5",
   "metadata": {},
   "outputs": [
    {
     "name": "stdout",
     "output_type": "stream",
     "text": [
      "<class 'pandas.core.frame.DataFrame'>\n",
      "RangeIndex: 12041 entries, 0 to 12040\n",
      "Data columns (total 9 columns):\n",
      " #   Column          Non-Null Count  Dtype  \n",
      "---  ------          --------------  -----  \n",
      " 0   category_1      12041 non-null  int64  \n",
      " 1   category_2      12041 non-null  int64  \n",
      " 2   category_3      12041 non-null  int64  \n",
      " 3   title           12023 non-null  object \n",
      " 4   product_rating  11961 non-null  float64\n",
      " 5   selling_price   12013 non-null  object \n",
      " 6   mrp             11666 non-null  object \n",
      " 7   seller_rating   11827 non-null  float64\n",
      " 8   description     5021 non-null   object \n",
      "dtypes: float64(2), int64(3), object(4)\n",
      "memory usage: 846.8+ KB\n"
     ]
    }
   ],
   "source": [
    "dataset = pd.read_csv('preprocessed_dataset.csv')\n",
    "dataset.info()"
   ]
  },
  {
   "cell_type": "code",
   "execution_count": 41,
   "id": "0fd8d25d",
   "metadata": {},
   "outputs": [],
   "source": [
    "import pandas as pd\n",
    "\n",
    "df = pd.read_csv('preprocessed_dataset.csv')\n",
    "\n",
    "def convert_price(price):\n",
    "    if isinstance(price, str):\n",
    "        return int(price.replace('₹', '').replace(',', ''))\n",
    "    else:\n",
    "        return 0  \n",
    "\n",
    "df['selling_price'] = df['selling_price'].fillna(0).apply(convert_price)\n",
    "df['mrp'] = df['mrp'].fillna(0).apply(convert_price)\n",
    "\n",
    "df.to_csv('preprocessed_dataset2.csv', index=False)\n"
   ]
  },
  {
   "cell_type": "code",
   "execution_count": 42,
   "id": "09499cfb",
   "metadata": {},
   "outputs": [
    {
     "name": "stdout",
     "output_type": "stream",
     "text": [
      "<class 'pandas.core.frame.DataFrame'>\n",
      "RangeIndex: 12041 entries, 0 to 12040\n",
      "Data columns (total 9 columns):\n",
      " #   Column          Non-Null Count  Dtype  \n",
      "---  ------          --------------  -----  \n",
      " 0   category_1      12041 non-null  int64  \n",
      " 1   category_2      12041 non-null  int64  \n",
      " 2   category_3      12041 non-null  int64  \n",
      " 3   title           12023 non-null  object \n",
      " 4   product_rating  11961 non-null  float64\n",
      " 5   selling_price   12041 non-null  int64  \n",
      " 6   mrp             12041 non-null  int64  \n",
      " 7   seller_rating   11827 non-null  float64\n",
      " 8   description     5021 non-null   object \n",
      "dtypes: float64(2), int64(5), object(2)\n",
      "memory usage: 846.8+ KB\n"
     ]
    }
   ],
   "source": [
    "df.info()"
   ]
  },
  {
   "cell_type": "code",
   "execution_count": 1,
   "id": "da2a3083-2228-4347-983b-1675523f6aae",
   "metadata": {},
   "outputs": [
    {
     "name": "stdout",
     "output_type": "stream",
     "text": [
      "Mean Absolute Error (MAE): 597.2123079705792\n",
      "Mean Squared Error (MSE): 21420489.900150653\n",
      "Root Mean Squared Error (RMSE): 4628.227511710142\n",
      "R² Score: 0.7814337540203329\n",
      "Model saved successfully!\n"
     ]
    }
   ],
   "source": [
    "import pandas as pd\n",
    "from sklearn.model_selection import train_test_split\n",
    "from sklearn.ensemble import RandomForestRegressor\n",
    "from sklearn.metrics import mean_absolute_error, mean_squared_error, r2_score\n",
    "import numpy as np\n",
    "import joblib\n",
    "data = pd.read_csv('preprocessed_dataset2.csv')\n",
    "data.fillna(0, inplace=True)\n",
    "X = data[['category_1', 'category_2', 'category_3', 'product_rating', 'mrp', 'seller_rating']]\n",
    "y = data['selling_price']\n",
    "X_train, X_test, y_train, y_test = train_test_split(X, y, test_size=0.2, random_state=42)\n",
    "model = RandomForestRegressor(n_estimators=100, random_state=42)\n",
    "model.fit(X_train, y_train)\n",
    "y_pred = model.predict(X_test)\n",
    "mae = mean_absolute_error(y_test, y_pred)\n",
    "mse = mean_squared_error(y_test, y_pred)\n",
    "rmse = np.sqrt(mse)\n",
    "r2 = r2_score(y_test, y_pred)\n",
    "print(f'Mean Absolute Error (MAE): {mae}')\n",
    "print(f'Mean Squared Error (MSE): {mse}')\n",
    "print(f'Root Mean Squared Error (RMSE): {rmse}')\n",
    "print(f'R² Score: {r2}')\n",
    "joblib.dump(model, 'cat123_prr_mrp_seller_rat.pkl')\n",
    "print(\"Model saved successfully!\")"
   ]
  },
  {
   "cell_type": "code",
   "execution_count": 29,
   "id": "64ce4580-b7ef-4e89-ba13-90220bea5fcb",
   "metadata": {},
   "outputs": [
    {
     "name": "stdout",
     "output_type": "stream",
     "text": [
      "Predicted Price for input 1: 25404.9\n",
      "Predicted Price for input 2: 203.69\n",
      "Predicted Price for input 3: 1099.533492063492\n",
      "Predicted Price for input 4: 1079.7378571428571\n",
      "Predicted Price for input 5: 421.605\n",
      "Predicted Price for input 6: 4334.04\n",
      "Predicted Price for input 7: 160.87\n"
     ]
    }
   ],
   "source": [
    "import pandas as pd\n",
    "from sklearn.feature_extraction.text import TfidfVectorizer\n",
    "import joblib\n",
    "\n",
    "# Load the saved model and vectorizer\n",
    "model = joblib.load('cat123_prr_mrp_seller_rat.pkl')\n",
    "\n",
    "# Define input data\n",
    "input_data = [\n",
    "    {\n",
    "        'category_1': -4,\n",
    "        'category_2': -28,\n",
    "        'category_3': -117,\n",
    "        'product_rating': 4.6,\n",
    "        'mrp':35324,\n",
    "        'seller_rating': 4.3\n",
    "    },\n",
    "    #row 1707 actual 31500\n",
    "    {\n",
    "        'category_1': -4,\n",
    "        'category_2': -64,\n",
    "        'category_3': -68,\n",
    "        'product_rating': 3.8,\n",
    "        'mrp':299,\n",
    "        'seller_rating': 4.7\n",
    "        #row5 actual 75\n",
    "    },\n",
    "    {\n",
    "        'category_1': -1,\n",
    "        'category_2': -63,\n",
    "        'category_3': -33,\n",
    "        'product_rating': 4.2,\n",
    "        'mrp':2999,\n",
    "        'seller_rating': 4.5\n",
    "    },#row2595 actual 1499\n",
    "    {\n",
    "        'category_1': -3,\n",
    "        'category_2': -57,\n",
    "        'category_3': -226,\n",
    "        'product_rating': 4,\n",
    "        'mrp':2395,\n",
    "        'seller_rating': 4.2\n",
    "    },#row5113 actual 1845\n",
    "    {\n",
    "        'category_1': -5,\n",
    "        'category_2': -19,\n",
    "        'category_3': -163,\n",
    "        'product_rating': 3.7,\n",
    "        'mrp':999,\n",
    "        'seller_rating': 4.4\n",
    "    },#row6196 actual 310\n",
    "    {\n",
    "        'category_1': -0,\n",
    "        'category_2': -3,\n",
    "        'category_3': -8,\n",
    "        'product_rating': 4.1,\n",
    "        'mrp':5999,\n",
    "        'seller_rating': 4.1\n",
    "    },#row9723 actual 5414 3838 because similar categories are all less in dataset\n",
    "    {\n",
    "        'category_1': -3,\n",
    "        'category_2': -52,\n",
    "        'category_3': -222,\n",
    "        'product_rating': 4.1,\n",
    "        'mrp':245,\n",
    "        'seller_rating': 4.9\n",
    "    }#row 3327\n",
    "]\n",
    "\n",
    "predicted_prices = []\n",
    "\n",
    "# Iterate over input data and make predictions\n",
    "for data in input_data:\n",
    "    input_df = pd.DataFrame(data, index=[0])\n",
    "    predicted_price = model.predict(input_df)\n",
    "    predicted_prices.append(predicted_price[0])\n",
    "\n",
    "# Print predicted prices\n",
    "for i, price in enumerate(predicted_prices):\n",
    "    print(f\"Predicted Price for input {i+1}:\", price)\n"
   ]
  },
  {
   "cell_type": "code",
   "execution_count": 28,
   "id": "09679fa5-b42a-44a4-896f-e7d45d9d0c69",
   "metadata": {},
   "outputs": [
    {
     "name": "stdout",
     "output_type": "stream",
     "text": [
      "Mean Absolute Error (MAE): 1001.0260555228601\n",
      "Mean Squared Error (MSE): 42850088.60192582\n",
      "Root Mean Squared Error (RMSE): 6545.997907265616\n",
      "R² Score: 0.5627745654149031\n",
      "Model saved successfully!\n"
     ]
    }
   ],
   "source": [
    "import pandas as pd\n",
    "from sklearn.model_selection import train_test_split\n",
    "from sklearn.ensemble import RandomForestRegressor\n",
    "from sklearn.metrics import mean_absolute_error, mean_squared_error, r2_score\n",
    "from sklearn.feature_extraction.text import TfidfVectorizer\n",
    "import numpy as np\n",
    "import joblib\n",
    "data = pd.read_csv('preprocessed_dataset2.csv')\n",
    "\n",
    "# Step 2: Data Preprocessing\n",
    "data.fillna(0, inplace=True)  # Replace NaN with 0 for simplicity\n",
    "\n",
    "# Step 3: Feature Engineering for Text Data\n",
    "data['text_data'] = data['title'].astype(str) + ' '\n",
    "\n",
    "# Step 4: Feature Selection\n",
    "X_text = data['text_data']\n",
    "X_categories = data[['mrp','product_rating','category_1', 'category_2', 'category_3']]\n",
    "y = data['selling_price']\n",
    "\n",
    "# Step 5: Train-Test Split\n",
    "X_text_train, X_text_test, X_categories_train, X_categories_test, y_train, y_test = train_test_split(X_text, X_categories, y, test_size=0.2, random_state=42)\n",
    "\n",
    "# Step 6: Feature Extraction for Text Data\n",
    "vectorizer = TfidfVectorizer(max_features=1000)\n",
    "X_text_train_transformed = vectorizer.fit_transform(X_text_train)\n",
    "X_text_test_transformed = vectorizer.transform(X_text_test)\n",
    "\n",
    "# Combine text features with category features\n",
    "X_train = X_text_train_transformed\n",
    "X_test = X_text_test_transformed\n",
    "\n",
    "# Step 7: Model Selection and Training\n",
    "model = RandomForestRegressor(n_estimators=100, random_state=42)\n",
    "model.fit(X_train, y_train)\n",
    "\n",
    "# Step 8: Evaluate the Model\n",
    "y_pred = model.predict(X_test)\n",
    "mae = mean_absolute_error(y_test, y_pred)\n",
    "mse = mean_squared_error(y_test, y_pred)\n",
    "rmse = np.sqrt(mse)\n",
    "r2 = r2_score(y_test, y_pred)\n",
    "print(f'Mean Absolute Error (MAE): {mae}')\n",
    "print(f'Mean Squared Error (MSE): {mse}')\n",
    "print(f'Root Mean Squared Error (RMSE): {rmse}')\n",
    "print(f'R² Score: {r2}')\n",
    "joblib.dump(model, 'random_forest_model_modified.pkl')\n",
    "print(\"Model saved successfully!\")"
   ]
  },
  {
   "cell_type": "code",
   "execution_count": 30,
   "id": "1218f9f8-6b97-43e4-a16b-9acff66d6272",
   "metadata": {},
   "outputs": [
    {
     "name": "stdout",
     "output_type": "stream",
     "text": [
      "Predicted Price for input 1: 30177.73999999999\n",
      "Predicted Price for input 2: 146.46101676803144\n",
      "Predicted Price for input 3: 618.6900528158972\n",
      "Predicted Price for input 4: 661.8744047619048\n",
      "Predicted Price for input 5: 387.93103174603175\n",
      "Predicted Price for input 6: 3700.8385714285714\n"
     ]
    }
   ],
   "source": [
    "import pandas as pd\n",
    "from sklearn.feature_extraction.text import TfidfVectorizer\n",
    "import joblib\n",
    "\n",
    "# Load the saved model and vectorizer\n",
    "model = joblib.load('random_forest_model_modified.pkl')\n",
    "\n",
    "# Define input data\n",
    "input_data = [\n",
    "    {\n",
    "        'title': 'Xbox Series S Console 512 GB',\n",
    "        'mrp':35324,\n",
    "        'product_rating': 4.6,\n",
    "        'category_1': -4,\n",
    "        'category_2': -28,\n",
    "        'category_3': -117\n",
    "    },\n",
    "    #row 1707 actual 31500\n",
    "    {\n",
    "        'title': 'VICTORY Cricket Wind Ball',\n",
    "        'mrp':299,\n",
    "        'product_rating': 3.8,\n",
    "        'category_1': -4,\n",
    "        'category_2': -64,\n",
    "        'category_3': -68\n",
    "        #row5 actual 75\n",
    "    },\n",
    "    {\n",
    "        'title': 'Mivi Fort S16 Soundbar',\n",
    "        'mrp':2999,\n",
    "        'product_rating': 4.2,\n",
    "        'category_1': -1,\n",
    "        'category_2': -63,\n",
    "        'category_3': -33\n",
    "    },#row2595 actual 1499\n",
    "    {\n",
    "        'title': 'HAVELLS RS7005  Shaver For MenÂ Â (Black, Red)',\n",
    "        'mrp':2395,\n",
    "        'product_rating': 4,\n",
    "        'category_1': -3,\n",
    "        'category_2': -57,\n",
    "        'category_3': -226\n",
    "    },#row5113 actual 1845\n",
    "    {\n",
    "        'title': 'lifeneeds Churidar  Ethnic Wear LeggingÂ Â (Multicolor, Solid)',\n",
    "        'mrp':999,\n",
    "        'product_rating': 3.7,\n",
    "        'category_1': -5,\n",
    "        'category_2': -19,\n",
    "        'category_3': -163\n",
    "    },#row6196 actual 310\n",
    "    {\n",
    "        'title': 'Safe-O-Kid Polyester Baby Bed Sized Bedding SetÂ Â (Black)',\n",
    "        'mrp':5999,\n",
    "        'product_rating': 4.1,\n",
    "        'category_1': -0,\n",
    "        'category_2': -3,\n",
    "        'category_3': -8\n",
    "    }#row9723 actual 5414 3838 because similar categories are all less in dataset\n",
    "]\n",
    "\n",
    "# Create an empty list to store predicted prices\n",
    "predicted_prices = []\n",
    "\n",
    "# Iterate over input data and make predictions\n",
    "for data in input_data:\n",
    "    input_df = pd.DataFrame(data, index=[0])\n",
    "    input_df['text_data'] = input_df['title'] + ' '\n",
    "    X_text_input_transformed = vectorizer.transform(input_df['text_data'])\n",
    "    predicted_price = model.predict(X_text_input_transformed)\n",
    "    predicted_prices.append(predicted_price[0])\n",
    "\n",
    "# Print predicted prices\n",
    "for i, price in enumerate(predicted_prices):\n",
    "    print(f\"Predicted Price for input {i+1}:\", price)\n"
   ]
  },
  {
   "cell_type": "code",
   "execution_count": 35,
   "id": "d3af3f3a-ddda-41f8-ad98-dfc141be6840",
   "metadata": {},
   "outputs": [
    {
     "ename": "SyntaxError",
     "evalue": "incomplete input (1067592525.py, line 1)",
     "output_type": "error",
     "traceback": [
      "\u001b[1;36m  Cell \u001b[1;32mIn[35], line 1\u001b[1;36m\u001b[0m\n\u001b[1;33m    '''\u001b[0m\n\u001b[1;37m    ^\u001b[0m\n\u001b[1;31mSyntaxError\u001b[0m\u001b[1;31m:\u001b[0m incomplete input\n"
     ]
    }
   ],
   "source": [
    "'''\n",
    "title,mrp,product_rating,cat 123 is same as title cat 1 2 3\n",
    "so use title cat 1 2 3\n",
    "'''"
   ]
  },
  {
   "cell_type": "code",
   "execution_count": 31,
   "id": "4bfc4a9a-6e6d-40c9-aac6-39c150776063",
   "metadata": {},
   "outputs": [
    {
     "name": "stdout",
     "output_type": "stream",
     "text": [
      "Mean Absolute Error (MAE): 1001.0260555228601\n",
      "Mean Squared Error (MSE): 42850088.60192582\n",
      "Root Mean Squared Error (RMSE): 6545.997907265616\n",
      "R² Score: 0.5627745654149031\n",
      "Model saved successfully!\n"
     ]
    }
   ],
   "source": [
    "import pandas as pd\n",
    "from sklearn.model_selection import train_test_split\n",
    "from sklearn.ensemble import RandomForestRegressor\n",
    "from sklearn.metrics import mean_absolute_error, mean_squared_error, r2_score\n",
    "from sklearn.feature_extraction.text import TfidfVectorizer\n",
    "import numpy as np\n",
    "import joblib\n",
    "data = pd.read_csv('preprocessed_dataset2.csv')\n",
    "\n",
    "# Step 2: Data Preprocessing\n",
    "data.fillna(0, inplace=True)  # Replace NaN with 0 for simplicity\n",
    "\n",
    "# Step 3: Feature Engineering for Text Data\n",
    "data['text_data'] = data['title'].astype(str)\n",
    "\n",
    "# Step 4: Feature Selection\n",
    "X_text = data['text_data']\n",
    "X_categories = data[['category_1', 'category_2', 'category_3']]\n",
    "y = data['selling_price']\n",
    "\n",
    "# Step 5: Train-Test Split\n",
    "X_text_train, X_text_test, X_categories_train, X_categories_test, y_train, y_test = train_test_split(X_text, X_categories, y, test_size=0.2, random_state=42)\n",
    "\n",
    "# Step 6: Feature Extraction for Text Data\n",
    "vectorizer = TfidfVectorizer(max_features=1000)\n",
    "X_text_train_transformed = vectorizer.fit_transform(X_text_train)\n",
    "X_text_test_transformed = vectorizer.transform(X_text_test)\n",
    "\n",
    "# Combine text features with category features\n",
    "X_train = X_text_train_transformed\n",
    "X_test = X_text_test_transformed\n",
    "\n",
    "# Step 7: Model Selection and Training\n",
    "model = RandomForestRegressor(n_estimators=100, random_state=42)\n",
    "model.fit(X_train, y_train)\n",
    "\n",
    "# Step 8: Evaluate the Model\n",
    "y_pred = model.predict(X_test)\n",
    "mae = mean_absolute_error(y_test, y_pred)\n",
    "mse = mean_squared_error(y_test, y_pred)\n",
    "rmse = np.sqrt(mse)\n",
    "r2 = r2_score(y_test, y_pred)\n",
    "\n",
    "print(f'Mean Absolute Error (MAE): {mae}')\n",
    "print(f'Mean Squared Error (MSE): {mse}')\n",
    "print(f'Root Mean Squared Error (RMSE): {rmse}')\n",
    "print(f'R² Score: {r2}')\n",
    "\n",
    "# Step 9: Save the trained model\n",
    "joblib.dump(model, 'title_cat123.pkl')\n",
    "print(\"Model saved successfully!\")"
   ]
  },
  {
   "cell_type": "code",
   "execution_count": 33,
   "id": "b3b568d4-5df6-43a7-b019-a16d6db713ec",
   "metadata": {},
   "outputs": [
    {
     "name": "stdout",
     "output_type": "stream",
     "text": [
      "Predicted Price for input 1: 30177.73999999999\n",
      "Predicted Price for input 2: 146.46101676803144\n",
      "Predicted Price for input 3: 618.6900528158972\n",
      "Predicted Price for input 4: 661.8744047619048\n",
      "Predicted Price for input 5: 387.93103174603175\n",
      "Predicted Price for input 6: 3700.8385714285714\n"
     ]
    }
   ],
   "source": [
    "import pandas as pd\n",
    "from sklearn.feature_extraction.text import TfidfVectorizer\n",
    "import joblib\n",
    "\n",
    "# Load the saved model and vectorizer\n",
    "model = joblib.load('title_cat123.pkl')\n",
    "\n",
    "# Define input data\n",
    "input_data = [\n",
    "    {\n",
    "        'title': 'Xbox Series S Console 512 GB',\n",
    "        'category_1': -4,\n",
    "        'category_2': -28,\n",
    "        'category_3': -117\n",
    "    },\n",
    "    {\n",
    "        'title': 'VICTORY Cricket Wind Ball',\n",
    "        'category_1': -4,\n",
    "        'category_2': -64,\n",
    "        'category_3': -68\n",
    "        #row5 actual 75\n",
    "    },\n",
    "    {\n",
    "        'title': 'Mivi Fort S16 Soundbar',\n",
    "        'category_1': -1,\n",
    "        'category_2': -63,\n",
    "        'category_3': -33\n",
    "    },#row2595 actual 1499\n",
    "    {\n",
    "        'title': 'HAVELLS RS7005  Shaver For MenÂ Â (Black, Red)',\n",
    "        'category_1': -3,\n",
    "        'category_2': -57,\n",
    "        'category_3': -226\n",
    "    },#row5113 actual 1845\n",
    "    {\n",
    "        'title': 'lifeneeds Churidar  Ethnic Wear LeggingÂ Â (Multicolor, Solid)',\n",
    "        'category_1': -5,\n",
    "        'category_2': -19,\n",
    "        'category_3': -163\n",
    "    },#row6196 actual 310\n",
    "    {\n",
    "        'title': 'Safe-O-Kid Polyester Baby Bed Sized Bedding SetÂ Â (Black)',\n",
    "        'category_1': -0,\n",
    "        'category_2': -3,\n",
    "        'category_3': -8\n",
    "    }#row9723 actual 5414 3838 because similar categories are all less in dataset\n",
    "]\n",
    "\n",
    "# Create an empty list to store predicted prices\n",
    "predicted_prices = []\n",
    "\n",
    "# Iterate over input data and make predictions\n",
    "for data in input_data:\n",
    "    input_df = pd.DataFrame(data, index=[0])\n",
    "    input_df['text_data'] = input_df['title']\n",
    "    X_text_input_transformed = vectorizer.transform(input_df['text_data'])\n",
    "    predicted_price = model.predict(X_text_input_transformed)\n",
    "    predicted_prices.append(predicted_price[0])\n",
    "\n",
    "# Print predicted prices\n",
    "for i, price in enumerate(predicted_prices):\n",
    "    print(f\"Predicted Price for input {i+1}:\", price)\n"
   ]
  },
  {
   "cell_type": "code",
   "execution_count": 9,
   "id": "52b09bd7-0c6d-4d29-a2d3-c94c8ed841c4",
   "metadata": {},
   "outputs": [
    {
     "name": "stdout",
     "output_type": "stream",
     "text": [
      "Random Forest:\n",
      "Mean Absolute Error (MAE): 715.6908313332075\n",
      "Mean Squared Error (MSE): 15205430.892911457\n",
      "Root Mean Squared Error (RMSE): 3899.4141730407987\n",
      "R² Score: 0.8448497693442791\n"
     ]
    }
   ],
   "source": [
    "'''import pandas as pd\n",
    "from sklearn.model_selection import KFold\n",
    "from sklearn.model_selection import train_test_split, GridSearchCV, StratifiedKFold\n",
    "from sklearn.ensemble import RandomForestRegressor, GradientBoostingRegressor\n",
    "from sklearn.svm import SVR\n",
    "from sklearn.preprocessing import StandardScaler\n",
    "from sklearn.pipeline import Pipeline\n",
    "from sklearn.metrics import mean_absolute_error, mean_squared_error, r2_score\n",
    "from sklearn.decomposition import PCA\n",
    "\n",
    "data = pd.read_csv('preprocessed_dataset2.csv')\n",
    "\n",
    "\n",
    "data.fillna(0, inplace=True)\n",
    "\n",
    "\n",
    "\n",
    "X = data[['category_1', 'category_2', 'category_3', 'product_rating', 'mrp', 'seller_rating']]\n",
    "y = data['selling_price']\n",
    "X_train, X_test, y_train, y_test = train_test_split(X, y, test_size=0.2, random_state=42)\n",
    "\n",
    "pipeline_rf = Pipeline([\n",
    "    ('scaler', StandardScaler()),\n",
    "    ('pca', PCA()),  \n",
    "    ('model', RandomForestRegressor(random_state=42))  \n",
    "])\n",
    "param_grid_rf = {\n",
    "    'pca__n_components': [2, 4],\n",
    "    'model__n_estimators': [50, 100, 150],\n",
    "    'model__max_depth': [None, 10, 20],\n",
    "    'model__min_samples_split': [2, 5, 10],\n",
    "    'model__min_samples_leaf': [1, 2, 4]\n",
    "}\n",
    "\n",
    "cv = KFold(n_splits=5, shuffle=True, random_state=42)\n",
    "\n",
    "grid_search_rf = GridSearchCV(estimator=pipeline_rf, param_grid=param_grid_rf, cv=cv, scoring='r2', n_jobs=-1)\n",
    "\n",
    "grid_search_rf.fit(X_train, y_train)\n",
    "\n",
    "best_model_rf = grid_search_rf.best_estimator_\n",
    "\n",
    "y_pred_rf = best_model_rf.predict(X_test)\n",
    "\n",
    "mae_rf = mean_absolute_error(y_test, y_pred_rf)\n",
    "mse_rf = mean_squared_error(y_test, y_pred_rf)\n",
    "rmse_rf = mean_squared_error(y_test, y_pred_rf, squared=False)\n",
    "r2_rf = r2_score(y_test, y_pred_rf)\n",
    "\n",
    "print(\"Random Forest:\")\n",
    "print(f'Mean Absolute Error (MAE): {mae_rf}')\n",
    "print(f'Mean Squared Error (MSE): {mse_rf}')\n",
    "print(f'Root Mean Squared Error (RMSE): {rmse_rf}')\n",
    "print(f'R² Score: {r2_rf}')\n",
    "'''"
   ]
  }
 ],
 "metadata": {
  "kernelspec": {
   "display_name": "Python 3 (ipykernel)",
   "language": "python",
   "name": "python3"
  },
  "language_info": {
   "codemirror_mode": {
    "name": "ipython",
    "version": 3
   },
   "file_extension": ".py",
   "mimetype": "text/x-python",
   "name": "python",
   "nbconvert_exporter": "python",
   "pygments_lexer": "ipython3",
   "version": "3.10.9"
  }
 },
 "nbformat": 4,
 "nbformat_minor": 5
}
