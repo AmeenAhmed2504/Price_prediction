{
 "cells": [
  {
   "cell_type": "markdown",
   "id": "bd267ddf-aca7-4abf-a4c0-2d3f38d33b57",
   "metadata": {},
   "source": [
    "## Pre Processing"
   ]
  },
  {
   "cell_type": "code",
   "execution_count": null,
   "id": "0f63ae7b",
   "metadata": {},
   "outputs": [],
   "source": []
  },
  {
   "cell_type": "code",
   "execution_count": 3,
   "id": "dfae7c97-9e30-4cd7-b501-23363d8ca046",
   "metadata": {},
   "outputs": [],
   "source": [
    "import pandas as pd\n",
    "import numpy as np\n",
    "import os\n",
    "from sklearn.preprocessing import LabelEncoder, MinMaxScaler, StandardScaler\n",
    "import keras\n",
    "import math\n",
    "from tensorflow.keras.preprocessing.text import Tokenizer\n",
    "from keras.utils import pad_sequences\n",
    "import sys"
   ]
  },
  {
   "cell_type": "code",
   "execution_count": 4,
   "id": "1dd05154-fb0a-4109-802a-9547b84430ba",
   "metadata": {},
   "outputs": [],
   "source": [
    "orig=pd.read_csv('dataset.csv')"
   ]
  },
  {
   "cell_type": "code",
   "execution_count": 5,
   "id": "9efaf885-d90d-4966-898d-08a4dcbf773c",
   "metadata": {},
   "outputs": [],
   "source": [
    "orig = orig.replace(' ',np.nan)"
   ]
  },
  {
   "cell_type": "code",
   "execution_count": 6,
   "id": "05d6eb7a-6614-4aca-a476-0454302716b9",
   "metadata": {},
   "outputs": [
    {
     "data": {
      "text/html": [
       "<div>\n",
       "<style scoped>\n",
       "    .dataframe tbody tr th:only-of-type {\n",
       "        vertical-align: middle;\n",
       "    }\n",
       "\n",
       "    .dataframe tbody tr th {\n",
       "        vertical-align: top;\n",
       "    }\n",
       "\n",
       "    .dataframe thead th {\n",
       "        text-align: right;\n",
       "    }\n",
       "</style>\n",
       "<table border=\"1\" class=\"dataframe\">\n",
       "  <thead>\n",
       "    <tr style=\"text-align: right;\">\n",
       "      <th></th>\n",
       "      <th>category_1</th>\n",
       "      <th>category_2</th>\n",
       "      <th>category_3</th>\n",
       "      <th>title</th>\n",
       "      <th>product_rating</th>\n",
       "      <th>selling_price</th>\n",
       "      <th>mrp</th>\n",
       "      <th>seller_name</th>\n",
       "      <th>seller_rating</th>\n",
       "      <th>description</th>\n",
       "      <th>highlights</th>\n",
       "      <th>specifications</th>\n",
       "      <th>image_links</th>\n",
       "    </tr>\n",
       "  </thead>\n",
       "  <tbody>\n",
       "    <tr>\n",
       "      <th>0</th>\n",
       "      <td>Sports, Books and More</td>\n",
       "      <td>Sports</td>\n",
       "      <td>Cricket</td>\n",
       "      <td>ITWOSERVICES CRICKET NET 100X10 CRICKET NET NY...</td>\n",
       "      <td>4.4</td>\n",
       "      <td>₹1,615</td>\n",
       "      <td>₹4,000</td>\n",
       "      <td>I2SERVICES</td>\n",
       "      <td>4.4</td>\n",
       "      <td>NaN</td>\n",
       "      <td>Cricket Practice Net NYLON HDPE Material W x H...</td>\n",
       "      <td>NaN</td>\n",
       "      <td>https://rukminim1.flixcart.com/image/612/612/x...</td>\n",
       "    </tr>\n",
       "    <tr>\n",
       "      <th>1</th>\n",
       "      <td>Sports, Books and More</td>\n",
       "      <td>Sports</td>\n",
       "      <td>Cricket</td>\n",
       "      <td>ITWOSERVICES CRICKET NET GROUND BOUNDARY NET 1...</td>\n",
       "      <td>4.4</td>\n",
       "      <td>₹152</td>\n",
       "      <td>₹600</td>\n",
       "      <td>I2SERVICES</td>\n",
       "      <td>4.4</td>\n",
       "      <td>10 X  10 GREEN CRICKET NET HDPE NYLON.</td>\n",
       "      <td>Cricket HDPE NYLON Material W x H x D: 3.048 x...</td>\n",
       "      <td>NaN</td>\n",
       "      <td>https://rukminim1.flixcart.com/image/612/612/x...</td>\n",
       "    </tr>\n",
       "    <tr>\n",
       "      <th>2</th>\n",
       "      <td>Sports, Books and More</td>\n",
       "      <td>Sports</td>\n",
       "      <td>Cricket</td>\n",
       "      <td>VICTORY Medium Weight ( Pack of 1 ) Rubber Cri...</td>\n",
       "      <td>3.7</td>\n",
       "      <td>₹59</td>\n",
       "      <td>₹199</td>\n",
       "      <td>VictoryOutlets</td>\n",
       "      <td>4.7</td>\n",
       "      <td>NaN</td>\n",
       "      <td>Cricket Rubber Ball Weight: 110 g</td>\n",
       "      <td>NaN</td>\n",
       "      <td>https://rukminim1.flixcart.com/image/612/612/x...</td>\n",
       "    </tr>\n",
       "    <tr>\n",
       "      <th>3</th>\n",
       "      <td>Sports, Books and More</td>\n",
       "      <td>Sports</td>\n",
       "      <td>Cricket</td>\n",
       "      <td>VICTORY Cricket Wind Ball (Pack of 1) - Made i...</td>\n",
       "      <td>3.8</td>\n",
       "      <td>₹75</td>\n",
       "      <td>₹299</td>\n",
       "      <td>VictoryOutlets</td>\n",
       "      <td>4.7</td>\n",
       "      <td>NaN</td>\n",
       "      <td>Cricket Synthetic Ball Weight: 110 g</td>\n",
       "      <td>NaN</td>\n",
       "      <td>https://rukminim1.flixcart.com/image/612/612/k...</td>\n",
       "    </tr>\n",
       "    <tr>\n",
       "      <th>4</th>\n",
       "      <td>Sports, Books and More</td>\n",
       "      <td>Sports</td>\n",
       "      <td>Cricket</td>\n",
       "      <td>CEAT Hitman Full Size Double Blade Poplar Cric...</td>\n",
       "      <td>3.4</td>\n",
       "      <td>₹329</td>\n",
       "      <td>₹1,399</td>\n",
       "      <td>IndiaFit</td>\n",
       "      <td>4.7</td>\n",
       "      <td>The Ceat Poplar Willow Cricket Bat has been de...</td>\n",
       "      <td>Age Group 15+ Yrs Blade Made of Poplar Willow ...</td>\n",
       "      <td>NaN</td>\n",
       "      <td>https://rukminim1.flixcart.com/image/612/612/j...</td>\n",
       "    </tr>\n",
       "  </tbody>\n",
       "</table>\n",
       "</div>"
      ],
      "text/plain": [
       "               category_1 category_2 category_3  \\\n",
       "0  Sports, Books and More     Sports   Cricket    \n",
       "1  Sports, Books and More     Sports   Cricket    \n",
       "2  Sports, Books and More     Sports   Cricket    \n",
       "3  Sports, Books and More     Sports   Cricket    \n",
       "4  Sports, Books and More     Sports   Cricket    \n",
       "\n",
       "                                               title  product_rating  \\\n",
       "0  ITWOSERVICES CRICKET NET 100X10 CRICKET NET NY...             4.4   \n",
       "1  ITWOSERVICES CRICKET NET GROUND BOUNDARY NET 1...             4.4   \n",
       "2  VICTORY Medium Weight ( Pack of 1 ) Rubber Cri...             3.7   \n",
       "3  VICTORY Cricket Wind Ball (Pack of 1) - Made i...             3.8   \n",
       "4  CEAT Hitman Full Size Double Blade Poplar Cric...             3.4   \n",
       "\n",
       "  selling_price     mrp     seller_name  seller_rating  \\\n",
       "0        ₹1,615  ₹4,000      I2SERVICES            4.4   \n",
       "1          ₹152    ₹600      I2SERVICES            4.4   \n",
       "2           ₹59    ₹199  VictoryOutlets            4.7   \n",
       "3           ₹75    ₹299  VictoryOutlets            4.7   \n",
       "4          ₹329  ₹1,399        IndiaFit            4.7   \n",
       "\n",
       "                                         description  \\\n",
       "0                                                NaN   \n",
       "1             10 X  10 GREEN CRICKET NET HDPE NYLON.   \n",
       "2                                                NaN   \n",
       "3                                                NaN   \n",
       "4  The Ceat Poplar Willow Cricket Bat has been de...   \n",
       "\n",
       "                                          highlights  specifications  \\\n",
       "0  Cricket Practice Net NYLON HDPE Material W x H...             NaN   \n",
       "1  Cricket HDPE NYLON Material W x H x D: 3.048 x...             NaN   \n",
       "2                  Cricket Rubber Ball Weight: 110 g             NaN   \n",
       "3               Cricket Synthetic Ball Weight: 110 g             NaN   \n",
       "4  Age Group 15+ Yrs Blade Made of Poplar Willow ...             NaN   \n",
       "\n",
       "                                         image_links  \n",
       "0  https://rukminim1.flixcart.com/image/612/612/x...  \n",
       "1  https://rukminim1.flixcart.com/image/612/612/x...  \n",
       "2  https://rukminim1.flixcart.com/image/612/612/x...  \n",
       "3  https://rukminim1.flixcart.com/image/612/612/k...  \n",
       "4  https://rukminim1.flixcart.com/image/612/612/j...  "
      ]
     },
     "execution_count": 6,
     "metadata": {},
     "output_type": "execute_result"
    }
   ],
   "source": [
    "orig.head()"
   ]
  },
  {
   "cell_type": "code",
   "execution_count": 7,
   "id": "fbe676ef-5a90-4a58-abe1-10e0139a4ebf",
   "metadata": {},
   "outputs": [
    {
     "data": {
      "text/plain": [
       "category_1            0\n",
       "category_2            0\n",
       "category_3            0\n",
       "title                18\n",
       "product_rating       80\n",
       "selling_price        28\n",
       "mrp                 375\n",
       "seller_name         216\n",
       "seller_rating       214\n",
       "description        7020\n",
       "highlights         5481\n",
       "specifications    12041\n",
       "image_links           0\n",
       "dtype: int64"
      ]
     },
     "execution_count": 7,
     "metadata": {},
     "output_type": "execute_result"
    }
   ],
   "source": [
    "orig.isna().sum()"
   ]
  },
  {
   "cell_type": "code",
   "execution_count": 8,
   "id": "ff6d50d9-94c3-4d15-af31-efcdc708c0a9",
   "metadata": {},
   "outputs": [],
   "source": [
    "orig = orig.drop(['highlights','specifications','mrp','image_links'],axis=1)"
   ]
  },
  {
   "cell_type": "code",
   "execution_count": 9,
   "id": "e3578129-27f8-4c6e-a7d4-af22c8940227",
   "metadata": {},
   "outputs": [],
   "source": [
    "dataset = orig.dropna().reset_index(drop = True)"
   ]
  },
  {
   "cell_type": "code",
   "execution_count": 10,
   "id": "2fea9fc8-7f16-4a09-a32b-76bd8d32bc32",
   "metadata": {},
   "outputs": [
    {
     "name": "stderr",
     "output_type": "stream",
     "text": [
      "C:\\Users\\prasa\\AppData\\Local\\Temp\\ipykernel_14372\\4294518981.py:7: SettingWithCopyWarning: \n",
      "A value is trying to be set on a copy of a slice from a DataFrame\n",
      "\n",
      "See the caveats in the documentation: https://pandas.pydata.org/pandas-docs/stable/user_guide/indexing.html#returning-a-view-versus-a-copy\n",
      "  dataset.selling_price[i]=int(k)\n"
     ]
    }
   ],
   "source": [
    "for i in dataset.selling_price.index:\n",
    "    k = ''\n",
    "    for j in dataset.selling_price[i]:\n",
    "        if j==',' or j == '₹':\n",
    "            continue\n",
    "        k=k+j\n",
    "    dataset.selling_price[i]=int(k)\n",
    "        "
   ]
  },
  {
   "cell_type": "code",
   "execution_count": 11,
   "id": "689f87bb-2dc1-4529-8bea-53a6d6b456cd",
   "metadata": {},
   "outputs": [],
   "source": [
    "dataset.selling_price = dataset.selling_price.astype(int)"
   ]
  },
  {
   "cell_type": "code",
   "execution_count": 12,
   "id": "288a42f5-b3c8-4e1a-b8a3-f12fde375fb9",
   "metadata": {},
   "outputs": [],
   "source": [
    "dataset.product_rating = dataset.product_rating.astype(float)\n",
    "dataset.seller_rating = dataset.seller_rating.astype(float)"
   ]
  },
  {
   "cell_type": "code",
   "execution_count": 13,
   "id": "963c533e-9a89-43dd-94a1-f5483ff8b211",
   "metadata": {},
   "outputs": [
    {
     "name": "stdout",
     "output_type": "stream",
     "text": [
      "<class 'pandas.core.frame.DataFrame'>\n",
      "RangeIndex: 4941 entries, 0 to 4940\n",
      "Data columns (total 9 columns):\n",
      " #   Column          Non-Null Count  Dtype  \n",
      "---  ------          --------------  -----  \n",
      " 0   category_1      4941 non-null   object \n",
      " 1   category_2      4941 non-null   object \n",
      " 2   category_3      4941 non-null   object \n",
      " 3   title           4941 non-null   object \n",
      " 4   product_rating  4941 non-null   float64\n",
      " 5   selling_price   4941 non-null   int32  \n",
      " 6   seller_name     4941 non-null   object \n",
      " 7   seller_rating   4941 non-null   float64\n",
      " 8   description     4941 non-null   object \n",
      "dtypes: float64(2), int32(1), object(6)\n",
      "memory usage: 328.2+ KB\n"
     ]
    }
   ],
   "source": [
    "dataset.info()"
   ]
  },
  {
   "cell_type": "code",
   "execution_count": 14,
   "id": "7e270980-5e43-47f9-bacf-55f4350d7399",
   "metadata": {},
   "outputs": [],
   "source": [
    "le = LabelEncoder()"
   ]
  },
  {
   "cell_type": "code",
   "execution_count": 15,
   "id": "108a2017-22b0-464b-9f76-2e098ecbbb94",
   "metadata": {},
   "outputs": [],
   "source": [
    "dataset.category_1=le.fit_transform(dataset.category_1)\n",
    "dataset.category_2=le.fit_transform(dataset.category_2)\n",
    "dataset.category_3=le.fit_transform(dataset.category_3)\n",
    "#le.classes_"
   ]
  },
  {
   "cell_type": "code",
   "execution_count": 16,
   "id": "65b8abd6-9be9-494d-82d6-cf17fc01242d",
   "metadata": {},
   "outputs": [],
   "source": [
    "dataset = dataset.drop(['seller_name'],axis = 1)"
   ]
  },
  {
   "cell_type": "code",
   "execution_count": 17,
   "id": "5ae9e8b6-beba-4b37-8e64-b44ec8d0623c",
   "metadata": {},
   "outputs": [],
   "source": [
    "all_word = np.hstack([dataset.title.str.lower(),dataset.description.str.lower()])"
   ]
  },
  {
   "cell_type": "code",
   "execution_count": 18,
   "id": "70144f34-8880-4115-a957-ba72b05450bf",
   "metadata": {},
   "outputs": [],
   "source": [
    "tokenizer = Tokenizer()"
   ]
  },
  {
   "cell_type": "code",
   "execution_count": 19,
   "id": "7156ada8-0f78-4911-b690-80e5d0d9e8cb",
   "metadata": {},
   "outputs": [],
   "source": [
    "tokenizer.fit_on_texts(all_word)"
   ]
  },
  {
   "cell_type": "code",
   "execution_count": 20,
   "id": "2a2254b4-a032-4931-950c-764118f040cf",
   "metadata": {},
   "outputs": [],
   "source": [
    "dataset.title = tokenizer.texts_to_sequences(dataset.title.str.lower())\n",
    "dataset.description = tokenizer.texts_to_sequences(dataset.description.str.lower())"
   ]
  },
  {
   "cell_type": "code",
   "execution_count": 21,
   "id": "c3c031a4-44f2-4781-af46-4663d95f6c2c",
   "metadata": {},
   "outputs": [
    {
     "data": {
      "text/plain": [
       "<Axes: >"
      ]
     },
     "execution_count": 21,
     "metadata": {},
     "output_type": "execute_result"
    },
    {
     "data": {
      "image/png": "[encoded data removed]",
      "text/plain": [
       "<Figure size 640x480 with 1 Axes>"
      ]
     },
     "metadata": {},
     "output_type": "display_data"
    }
   ],
   "source": [
    "dataset.title.apply(lambda x:len(x)).plot(kind = 'box')"
   ]
  },
  {
   "cell_type": "code",
   "execution_count": 22,
   "id": "f1ccac97-da61-4090-b22d-cdf418b0d68e",
   "metadata": {},
   "outputs": [
    {
     "data": {
      "text/plain": [
       "<Axes: >"
      ]
     },
     "execution_count": 22,
     "metadata": {},
     "output_type": "execute_result"
    },
    {
     "data": {
      "image/png": "[encoded data removed]",
      "text/plain": [
       "<Figure size 640x480 with 1 Axes>"
      ]
     },
     "metadata": {},
     "output_type": "display_data"
    }
   ],
   "source": [
    "dataset.description.apply(lambda x:len(x)).plot(kind = 'box')"
   ]
  },
  {
   "cell_type": "code",
   "execution_count": 23,
   "id": "a1f7cf28-4ff8-4144-97cc-8473f56fb364",
   "metadata": {},
   "outputs": [],
   "source": [
    "max_title = 32\n",
    "max_description = 64"
   ]
  },
  {
   "cell_type": "code",
   "execution_count": 24,
   "id": "b36fd226-c4e4-43b9-b032-0c8873c7fb27",
   "metadata": {},
   "outputs": [
    {
     "data": {
      "text/html": [
       "<div>\n",
       "<style scoped>\n",
       "    .dataframe tbody tr th:only-of-type {\n",
       "        vertical-align: middle;\n",
       "    }\n",
       "\n",
       "    .dataframe tbody tr th {\n",
       "        vertical-align: top;\n",
       "    }\n",
       "\n",
       "    .dataframe thead th {\n",
       "        text-align: right;\n",
       "    }\n",
       "</style>\n",
       "<table border=\"1\" class=\"dataframe\">\n",
       "  <thead>\n",
       "    <tr style=\"text-align: right;\">\n",
       "      <th></th>\n",
       "      <th>category_1</th>\n",
       "      <th>category_2</th>\n",
       "      <th>category_3</th>\n",
       "      <th>title</th>\n",
       "      <th>product_rating</th>\n",
       "      <th>selling_price</th>\n",
       "      <th>seller_rating</th>\n",
       "      <th>description</th>\n",
       "    </tr>\n",
       "  </thead>\n",
       "  <tbody>\n",
       "    <tr>\n",
       "      <th>0</th>\n",
       "      <td>4</td>\n",
       "      <td>48</td>\n",
       "      <td>47</td>\n",
       "      <td>[15085, 1335, 1319, 4225, 11612, 1319, 9855, 6...</td>\n",
       "      <td>4.4</td>\n",
       "      <td>152</td>\n",
       "      <td>4.4</td>\n",
       "      <td>[111, 77, 111, 343, 1335, 1319, 5068, 1032]</td>\n",
       "    </tr>\n",
       "    <tr>\n",
       "      <th>1</th>\n",
       "      <td>4</td>\n",
       "      <td>48</td>\n",
       "      <td>47</td>\n",
       "      <td>[7667, 11613, 234, 71, 251, 782, 5234, 1335, 1...</td>\n",
       "      <td>3.4</td>\n",
       "      <td>329</td>\n",
       "      <td>4.7</td>\n",
       "      <td>[2, 7667, 5234, 4951, 1335, 1320, 35, 291, 60,...</td>\n",
       "    </tr>\n",
       "    <tr>\n",
       "      <th>2</th>\n",
       "      <td>4</td>\n",
       "      <td>48</td>\n",
       "      <td>47</td>\n",
       "      <td>[3359, 77, 1335, 1320, 334, 310, 11614, 221, 6...</td>\n",
       "      <td>4.1</td>\n",
       "      <td>369</td>\n",
       "      <td>4.1</td>\n",
       "      <td>[3359, 77, 1335, 1197, 11614, 1320, 152, 74, 5...</td>\n",
       "    </tr>\n",
       "    <tr>\n",
       "      <th>3</th>\n",
       "      <td>4</td>\n",
       "      <td>48</td>\n",
       "      <td>47</td>\n",
       "      <td>[4446, 234, 71, 408, 365, 119, 1335, 1320, 4, ...</td>\n",
       "      <td>4.0</td>\n",
       "      <td>249</td>\n",
       "      <td>4.8</td>\n",
       "      <td>[4446, 365, 119, 234, 71, 1335, 1320, 167, 4, ...</td>\n",
       "    </tr>\n",
       "    <tr>\n",
       "      <th>4</th>\n",
       "      <td>4</td>\n",
       "      <td>48</td>\n",
       "      <td>47</td>\n",
       "      <td>[4446, 3605, 1335, 1320, 71, 32, 4, 421, 1300,...</td>\n",
       "      <td>3.9</td>\n",
       "      <td>249</td>\n",
       "      <td>4.8</td>\n",
       "      <td>[4446, 3605, 1335, 1320, 71, 32, 4, 421, 1300,...</td>\n",
       "    </tr>\n",
       "  </tbody>\n",
       "</table>\n",
       "</div>"
      ],
      "text/plain": [
       "   category_1  category_2  category_3  \\\n",
       "0           4          48          47   \n",
       "1           4          48          47   \n",
       "2           4          48          47   \n",
       "3           4          48          47   \n",
       "4           4          48          47   \n",
       "\n",
       "                                               title  product_rating  \\\n",
       "0  [15085, 1335, 1319, 4225, 11612, 1319, 9855, 6...             4.4   \n",
       "1  [7667, 11613, 234, 71, 251, 782, 5234, 1335, 1...             3.4   \n",
       "2  [3359, 77, 1335, 1320, 334, 310, 11614, 221, 6...             4.1   \n",
       "3  [4446, 234, 71, 408, 365, 119, 1335, 1320, 4, ...             4.0   \n",
       "4  [4446, 3605, 1335, 1320, 71, 32, 4, 421, 1300,...             3.9   \n",
       "\n",
       "   selling_price  seller_rating  \\\n",
       "0            152            4.4   \n",
       "1            329            4.7   \n",
       "2            369            4.1   \n",
       "3            249            4.8   \n",
       "4            249            4.8   \n",
       "\n",
       "                                         description  \n",
       "0        [111, 77, 111, 343, 1335, 1319, 5068, 1032]  \n",
       "1  [2, 7667, 5234, 4951, 1335, 1320, 35, 291, 60,...  \n",
       "2  [3359, 77, 1335, 1197, 11614, 1320, 152, 74, 5...  \n",
       "3  [4446, 365, 119, 234, 71, 1335, 1320, 167, 4, ...  \n",
       "4  [4446, 3605, 1335, 1320, 71, 32, 4, 421, 1300,...  "
      ]
     },
     "execution_count": 24,
     "metadata": {},
     "output_type": "execute_result"
    }
   ],
   "source": [
    "dataset.head()"
   ]
  },
  {
   "cell_type": "code",
   "execution_count": 34,
   "id": "45df925d",
   "metadata": {},
   "outputs": [],
   "source": [
    "dataset.to_csv('preprocessed_dataset.csv', index=False)"
   ]
  },
  {
   "cell_type": "code",
   "execution_count": 36,
   "id": "a75a1f80",
   "metadata": {},
   "outputs": [
    {
     "name": "stdout",
     "output_type": "stream",
     "text": [
      "<class 'pandas.core.frame.DataFrame'>\n",
      "RangeIndex: 12041 entries, 0 to 12040\n",
      "Data columns (total 9 columns):\n",
      " #   Column          Non-Null Count  Dtype  \n",
      "---  ------          --------------  -----  \n",
      " 0   category_1      12041 non-null  int64  \n",
      " 1   category_2      12041 non-null  int64  \n",
      " 2   category_3      12041 non-null  int64  \n",
      " 3   title           12023 non-null  object \n",
      " 4   product_rating  11961 non-null  float64\n",
      " 5   selling_price   12013 non-null  object \n",
      " 6   mrp             11666 non-null  object \n",
      " 7   seller_rating   11827 non-null  float64\n",
      " 8   description     5021 non-null   object \n",
      "dtypes: float64(2), int64(3), object(4)\n",
      "memory usage: 846.8+ KB\n"
     ]
    }
   ],
   "source": [
    "dataset = pd.read_csv('preprocessed_dataset.csv')\n",
    "dataset.info()"
   ]
  },
  {
   "cell_type": "code",
   "execution_count": 41,
   "id": "daefa312",
   "metadata": {},
   "outputs": [],
   "source": [
    "import pandas as pd\n",
    "\n",
    "# Read the CSV file\n",
    "df = pd.read_csv('preprocessed_dataset.csv')\n",
    "\n",
    "# Define a function to convert price strings to numeric values\n",
    "def convert_price(price):\n",
    "    if isinstance(price, str):\n",
    "        # Remove '₹' symbol and commas, and convert to integer\n",
    "        return int(price.replace('₹', '').replace(',', ''))\n",
    "    else:\n",
    "        return 0  # Placeholder value for missing values\n",
    "\n",
    "# Apply the conversion function to the 'selling_price' and 'mrp' columns after filling missing values\n",
    "df['selling_price'] = df['selling_price'].fillna(0).apply(convert_price)\n",
    "df['mrp'] = df['mrp'].fillna(0).apply(convert_price)\n",
    "\n",
    "# Save the modified DataFrame to a new CSV file\n",
    "df.to_csv('preprocessed_dataset2.csv', index=False)\n"
   ]
  },
  {
   "cell_type": "code",
   "execution_count": 42,
   "id": "8c4860d1",
   "metadata": {},
   "outputs": [
    {
     "name": "stdout",
     "output_type": "stream",
     "text": [
      "<class 'pandas.core.frame.DataFrame'>\n",
      "RangeIndex: 12041 entries, 0 to 12040\n",
      "Data columns (total 9 columns):\n",
      " #   Column          Non-Null Count  Dtype  \n",
      "---  ------          --------------  -----  \n",
      " 0   category_1      12041 non-null  int64  \n",
      " 1   category_2      12041 non-null  int64  \n",
      " 2   category_3      12041 non-null  int64  \n",
      " 3   title           12023 non-null  object \n",
      " 4   product_rating  11961 non-null  float64\n",
      " 5   selling_price   12041 non-null  int64  \n",
      " 6   mrp             12041 non-null  int64  \n",
      " 7   seller_rating   11827 non-null  float64\n",
      " 8   description     5021 non-null   object \n",
      "dtypes: float64(2), int64(5), object(2)\n",
      "memory usage: 846.8+ KB\n"
     ]
    }
   ],
   "source": [
    "df.info()"
   ]
  },
  {
   "cell_type": "code",
   "execution_count": 53,
   "id": "e5b24d13-9930-4e5c-9d70-000b0f81ef18",
   "metadata": {},
   "outputs": [
    {
     "name": "stdout",
     "output_type": "stream",
     "text": [
      "Mean Squared Error: 21420489.900150653\n"
     ]
    }
   ],
   "source": [
    "#1st model with all 6\n",
    "\n",
    "import pandas as pd\n",
    "from sklearn.model_selection import train_test_split\n",
    "from sklearn.ensemble import RandomForestRegressor\n",
    "from sklearn.metrics import mean_squared_error\n",
    "\n",
    "# Step 1: Load the data\n",
    "data = pd.read_csv('preprocessed_dataset2.csv')\n",
    "\n",
    "# Step 2: Data Preprocessing\n",
    "# Handle missing values\n",
    "data.fillna(0, inplace=True)  # Replace NaN with 0 for simplicity\n",
    "# Encode categorical features (if needed)\n",
    "\n",
    "# Step 3: Feature Selection\n",
    "# Select relevant features for training the model\n",
    "X = data[['category_1', 'category_2', 'category_3', 'product_rating', 'mrp', 'seller_rating']]\n",
    "y = data['selling_price']\n",
    "\n",
    "# Step 4: Train-Test Split\n",
    "X_train, X_test, y_train, y_test = train_test_split(X, y, test_size=0.2, random_state=42)\n",
    "\n",
    "# Step 5: Model Selection and Training\n",
    "model = RandomForestRegressor(n_estimators=100, random_state=42)\n",
    "model.fit(X_train, y_train)\n",
    "\n",
    "# Step 6: Evaluate the Model\n",
    "y_pred = model.predict(X_test)\n",
    "mse = mean_squared_error(y_test, y_pred)\n",
    "print(f'Mean Squared Error: {mse}')\n",
    "\n",
    "# Optionally, you can fine-tune hyperparameters of the model to improve performance\n",
    "\n",
    "# Step 7: Prediction (Make predictions on new data if available)\n",
    "# new_data = ...  # Load new data\n",
    "# predictions = model.predict(new_data)\n"
   ]
  },
  {
   "cell_type": "code",
   "execution_count": 71,
   "id": "67a517e7",
   "metadata": {},
   "outputs": [
    {
     "name": "stdout",
     "output_type": "stream",
     "text": [
      "Product Price is: ₹246.84\n"
     ]
    }
   ],
   "source": [
    "import pandas as pd\n",
    "\n",
    "# Create a dictionary with the sample data\n",
    "new_data = {\n",
    "    'category_1': 4,\n",
    "    'category_2': 38,\n",
    "    'category_3': 212,\n",
    "    'title': \"Feriado Gardening Reusable Rubber Hand Gloves for Washing Rubber Safety GlovesÂ Â (3)\",\n",
    "    'product_rating': 3.9,\n",
    "    'mrp':499,\n",
    "    'seller_rating': 3.9,\n",
    "    'description': \"Your hands no longer need to be occupied with a sponge. Just simply put the magic silicone gloves on, rinse with water, apply soap, and simply scrub & clean with just your hands!, ? SCRUBBING POWER: equipped with hundreds of scrubbing bristles to effectively remove stubborn greases, oils, and dirts., ? MULTI USE: works extremely well to scrub and clean dirts away from plates, cups, cutlery, carpets, floors, sinks, shower tubs, toilets, tables, cabinets, pet hairs, and just about anything else\"\n",
    "}\n",
    "\n",
    "# Convert the dictionary to a DataFrame\n",
    "new_data_df = pd.DataFrame([new_data])\n",
    "\n",
    "# Assuming you have already preprocessed the data and loaded the model\n",
    "# Encode the text features (title and description)\n",
    "new_data_df['title'] = tokenizer.texts_to_sequences(new_data_df['title'].str.lower())\n",
    "new_data_df['description'] = tokenizer.texts_to_sequences(new_data_df['description'].str.lower())\n",
    "\n",
    "# Make predictions on the new data\n",
    "predicted_price = model.predict(new_data_df.drop(columns=['title', 'description']))\n",
    "\n",
    "# Print the predicted price\n",
    "print(f\"Product Price is: ₹{predicted_price[0]:,.2f}\")\n"
   ]
  },
  {
   "cell_type": "code",
   "execution_count": 64,
   "id": "1f6a7a52",
   "metadata": {},
   "outputs": [
    {
     "name": "stdout",
     "output_type": "stream",
     "text": [
      "Product Price is: ₹392.52\n"
     ]
    }
   ],
   "source": [
    "import pandas as pd\n",
    "\n",
    "# Create a dictionary with the sample data\n",
    "new_data = {\n",
    "    'category_1': 2,\n",
    "    'category_2': 46,\n",
    "    'category_3': 192,\n",
    "    'title': \"Ubon 10000 mAh Power Bank (12 W, Fast Charging)Â Â (Black, Lithium Polymer)\",\n",
    "    'product_rating': 3.9,\n",
    "    'mrp': 570,\n",
    "    'seller_rating': 3.8,\n",
    "    'description': \"Ubon PB-X37 Power House has a power-packed 10000mAh polymer battery that allows you to charge your devices multiple times. Equipped with detachable cables, the power bank has Type-C (DC 5V-2.01 - Max) and USB cable (DC 5V-2.0A Max) input, and V8 (5V/2.4A 12W Max), iPhone (5V/2.4A 12W - Max), Type-C (5V/2.4A 12W - Max) and USB (5V/2.4A 12W - Max) output. Compatible with iOS and Android smartphones, tablets, and other devices via its USB, V8, iPhone, and Type-C cables. Its sleek and stylish design with battery level indicator makes it truly a perfect style statement. Also, its portable design ensures it a travel companion. With advanced-level chipset protection, this saves your devices from overheating, over-charging, and over-voltage.\"\n",
    "}\n",
    "\n",
    "# Convert the dictionary to a DataFrame\n",
    "new_data_df = pd.DataFrame([new_data])\n",
    "\n",
    "# Assuming you have already preprocessed the data and loaded the model\n",
    "# Encode the text features (title and description)\n",
    "new_data_df['title'] = tokenizer.texts_to_sequences(new_data_df['title'].str.lower())\n",
    "new_data_df['description'] = tokenizer.texts_to_sequences(new_data_df['description'].str.lower())\n",
    "\n",
    "# Make predictions on the new data\n",
    "predicted_price = model.predict(new_data_df.drop(columns=['title', 'description']))\n",
    "\n",
    "# Print the predicted price\n",
    "print(f\"Product Price is: ₹{predicted_price[0]:,.2f}\")\n"
   ]
  },
  {
   "cell_type": "markdown",
   "id": "47c6ef69-0416-4c0a-af7b-6c1c0c024762",
   "metadata": {
    "tags": []
   },
   "source": [
    "## Model"
   ]
  },
  {
   "cell_type": "code",
   "execution_count": 25,
   "id": "c2355005-24c4-4ff9-aa00-2cc9a89e4288",
   "metadata": {},
   "outputs": [],
   "source": [
    "from keras.layers import Input, Dropout, Dense, BatchNormalization, Activation, concatenate, GRU, Embedding, Flatten, BatchNormalization\n",
    "from keras.models import Model\n",
    "from keras.callbacks import ModelCheckpoint, Callback, EarlyStopping\n",
    "from keras import backend as K"
   ]
  },
  {
   "cell_type": "code",
   "execution_count": 25,
   "id": "e7abfd97-c567-4a0e-8d0f-14c17fc50b72",
   "metadata": {},
   "outputs": [],
   "source": [
    "def rmsle_cust(y_true, y_pred):\n",
    "    first_log = K.log(K.clip(y_pred, K.epsilon(), None) + 1.)\n",
    "    second_log = K.log(K.clip(y_true, K.epsilon(), None) + 1.)\n",
    "    return K.sqrt(K.mean(K.square(first_log - second_log), axis=-1))"
   ]
  },
  {
   "cell_type": "code",
   "execution_count": 26,
   "id": "af2e60de-b684-40c6-a5d9-add841b68e62",
   "metadata": {},
   "outputs": [],
   "source": [
    "x_title = pad_sequences(dataset.title,maxlen = max_title)\n",
    "x_description = pad_sequences(dataset.description,maxlen = max_description)\n",
    "cat1 = dataset.category_1.to_numpy()\n",
    "cat2 = dataset.category_2.to_numpy()\n",
    "cat3 = dataset.category_3.to_numpy()"
   ]
  },
  {
   "cell_type": "code",
   "execution_count": 27,
   "id": "218c9db4-e6b5-42b4-b059-2a1bf0ce61c0",
   "metadata": {},
   "outputs": [],
   "source": [
    "feed_data = {\n",
    "    'name':x_title,\n",
    "    'item_desc':x_description,\n",
    "    'category_1':cat1,\n",
    "    'category_2':cat2,\n",
    "    'category_3':cat3\n",
    "}"
   ]
  },
  {
   "cell_type": "code",
   "execution_count": 28,
   "id": "936ae0ab-0b12-40fc-9893-ce22913f2d88",
   "metadata": {},
   "outputs": [
    {
     "data": {
      "text/plain": [
       "{'name': array([[   0,    0,    0, ..., 1335, 5233,  343],\n",
       "        [   0,    0,    0, ...,   20,   26,  237],\n",
       "        [   0,    0,    0, ...,   41,    5,   74],\n",
       "        ...,\n",
       "        [   0,    0,    0, ...,   52,   20,  237],\n",
       "        [   0,    0,    0, ..., 3362, 5388,   78],\n",
       "        [   0,    0,    0, ..., 3362,  393,   78]]),\n",
       " 'item_desc': array([[    0,     0,     0, ...,  1319,  5068,  1032],\n",
       "        [    0,     0,     2, ...,     6, 17327,   772],\n",
       "        [    0,     0,     0, ...,   108,   559,  1063],\n",
       "        ...,\n",
       "        [    2,  1235,   781, ...,    10,    20,   237],\n",
       "        [  250,     6, 11611, ..., 22832,   180,   544],\n",
       "        [    0,     0,     0, ...,     1,   470,    45]]),\n",
       " 'category_2': array([48, 48, 48, ..., 42, 42, 42]),\n",
       " 'category_3': array([47, 47, 47, ..., 71, 71, 71])}"
      ]
     },
     "execution_count": 28,
     "metadata": {},
     "output_type": "execute_result"
    }
   ],
   "source": [
    "feed_data"
   ]
  },
  {
   "cell_type": "code",
   "execution_count": 29,
   "id": "22f953a7-9e40-4507-a08d-3c79916f4f2b",
   "metadata": {},
   "outputs": [],
   "source": [
    "max_name = np.max(x_title)+1\n",
    "max_desp = np.max(x_description)+1\n",
    "max_cat1=np.max(cat1)+1\n",
    "max_cat2=np.max(cat2)+1\n",
    "max_cat3=np.max(cat3)+1"
   ]
  },
  {
   "cell_type": "code",
   "execution_count": 30,
   "id": "21c7fd0f-76e5-4ea9-915b-150c9d6495ae",
   "metadata": {},
   "outputs": [],
   "source": [
    "y = dataset.selling_price.to_numpy()"
   ]
  },
  {
   "cell_type": "code",
   "execution_count": 31,
   "id": "1d7359e1-ccab-4f9b-87c0-4edda8ef2d87",
   "metadata": {},
   "outputs": [],
   "source": [
    "#shrinking y better look of mae, mse\n",
    "y = np.log(y+1)\n",
    "target_scaler = MinMaxScaler(feature_range=(-1, 1))\n",
    "y = target_scaler.fit_transform(y.reshape(-1,1))"
   ]
  },
  {
   "cell_type": "code",
   "execution_count": 119,
   "id": "de034be1-89eb-4eec-a8bf-467bf8884c47",
   "metadata": {},
   "outputs": [
    {
     "name": "stdout",
     "output_type": "stream",
     "text": [
      "Model: \"model_5\"\n",
      "__________________________________________________________________________________________________\n",
      " Layer (type)                   Output Shape         Param #     Connected to                     \n",
      "==================================================================================================\n",
      " item_desc (InputLayer)         [(None, 64)]         0           []                               \n",
      "                                                                                                  \n",
      " name (InputLayer)              [(None, 32)]         0           []                               \n",
      "                                                                                                  \n",
      " category_2 (InputLayer)        [(None, 1)]          0           []                               \n",
      "                                                                                                  \n",
      " category_3 (InputLayer)        [(None, 1)]          0           []                               \n",
      "                                                                                                  \n",
      " embedding_5 (Embedding)        (None, 64, 64)       1461376     ['item_desc[0][0]']              \n",
      "                                                                                                  \n",
      " embedding_4 (Embedding)        (None, 32, 32)       554432      ['name[0][0]']                   \n",
      "                                                                                                  \n",
      " flatten_4 (Flatten)            (None, 1)            0           ['category_2[0][0]']             \n",
      "                                                                                                  \n",
      " flatten_5 (Flatten)            (None, 1)            0           ['category_3[0][0]']             \n",
      "                                                                                                  \n",
      " gru_4 (GRU)                    (None, 16)           3936        ['embedding_5[0][0]']            \n",
      "                                                                                                  \n",
      " gru_5 (GRU)                    (None, 8)            1008        ['embedding_4[0][0]']            \n",
      "                                                                                                  \n",
      " concatenate_5 (Concatenate)    (None, 26)           0           ['flatten_4[0][0]',              \n",
      "                                                                  'flatten_5[0][0]',              \n",
      "                                                                  'gru_4[0][0]',                  \n",
      "                                                                  'gru_5[0][0]']                  \n",
      "                                                                                                  \n",
      " dense_27 (Dense)               (None, 128)          3456        ['concatenate_5[0][0]']          \n",
      "                                                                                                  \n",
      " dropout_4 (Dropout)            (None, 128)          0           ['dense_27[0][0]']               \n",
      "                                                                                                  \n",
      " dense_28 (Dense)               (None, 64)           8256        ['dropout_4[0][0]']              \n",
      "                                                                                                  \n",
      " dropout_5 (Dropout)            (None, 64)           0           ['dense_28[0][0]']               \n",
      "                                                                                                  \n",
      " dense_29 (Dense)               (None, 1)            65          ['dropout_5[0][0]']              \n",
      "                                                                                                  \n",
      "==================================================================================================\n",
      "Total params: 2,032,529\n",
      "Trainable params: 2,032,529\n",
      "Non-trainable params: 0\n",
      "__________________________________________________________________________________________________\n"
     ]
    }
   ],
   "source": [
    "def get_model():\n",
    "    #params\n",
    "    dr_r = 0.1\n",
    "    \n",
    "    #Inputs\n",
    "    name = Input(shape=[x_title.shape[1]], name=\"name\")\n",
    "    item_desc = Input(shape=[x_description.shape[1]], name=\"item_desc\")\n",
    "    category_1 = Input(shape=[1], name=\"category_2\")\n",
    "    category_2 = Input(shape=[1], name=\"category_3\")\n",
    "    \n",
    "    #Embeddings layers\n",
    "    emb_name = Embedding(max_name, 32)(name)\n",
    "    emb_item_desc = Embedding(max_desp, 64)(item_desc)\n",
    "    emb_category_1 = Dense(8)(category_1)\n",
    "    emb_category_2 = Dense(8)(category_2)\n",
    "\n",
    "    \n",
    "    #rnn layer\n",
    "    rnn_layer1 = GRU(16) (emb_item_desc)\n",
    "    rnn_layer2 = GRU(8) (emb_name)\n",
    "    \n",
    "    #main layer\n",
    "    main_l = concatenate([\n",
    "           Flatten() (category_1)\n",
    "         , Flatten() (category_2)\n",
    "         , rnn_layer1\n",
    "         , rnn_layer2\n",
    "    ])\n",
    "    main_l = Dropout(dr_r) (Dense(128) (main_l))\n",
    "    main_l = Dropout(dr_r) (Dense(64) (main_l))\n",
    "    \n",
    "    #output\n",
    "    output = Dense(1, activation=\"linear\") (main_l)\n",
    "    \n",
    "    #model\n",
    "    model = Model([name,item_desc,category_1,category_2], output) #name, item_desc, category_1, category_2\n",
    "    opt = keras.optimizers.Adam(learning_rate=0.01)\n",
    "    model.compile(loss=\"mse\", optimizer=opt, metrics=[\"mae\", rmsle_cust])\n",
    "    \n",
    "    return model\n",
    "\n",
    "    \n",
    "model = get_model()\n",
    "model.summary()"
   ]
  },
  {
   "cell_type": "code",
   "execution_count": 120,
   "id": "d31b41e8-9d6a-4553-b6bd-deb8f0789670",
   "metadata": {},
   "outputs": [
    {
     "name": "stdout",
     "output_type": "stream",
     "text": [
      "Epoch 1/20\n",
      "155/155 [==============================] - 17s 62ms/step - loss: 502.2143 - mae: 8.0862 - rmsle_cust: 0.6216\n",
      "Epoch 2/20\n",
      "155/155 [==============================] - 9s 60ms/step - loss: 3.1415 - mae: 1.3055 - rmsle_cust: 0.2771\n",
      "Epoch 3/20\n",
      "155/155 [==============================] - 10s 66ms/step - loss: 1.5487 - mae: 0.9055 - rmsle_cust: 0.1895\n",
      "Epoch 4/20\n",
      "155/155 [==============================] - 9s 61ms/step - loss: 0.9775 - mae: 0.7198 - rmsle_cust: 0.1457\n",
      "Epoch 5/20\n",
      "155/155 [==============================] - 9s 61ms/step - loss: 0.6730 - mae: 0.5970 - rmsle_cust: 0.1143\n",
      "Epoch 6/20\n",
      "155/155 [==============================] - 10s 67ms/step - loss: 0.5202 - mae: 0.5271 - rmsle_cust: 0.0954\n",
      "Epoch 7/20\n",
      "155/155 [==============================] - 10s 63ms/step - loss: 0.3951 - mae: 0.4626 - rmsle_cust: 0.0768\n",
      "Epoch 8/20\n",
      "155/155 [==============================] - 10s 64ms/step - loss: 0.3427 - mae: 0.4249 - rmsle_cust: 0.0681\n",
      "Epoch 9/20\n",
      "155/155 [==============================] - 10s 61ms/step - loss: 0.2943 - mae: 0.3893 - rmsle_cust: 0.0603\n",
      "Epoch 10/20\n",
      "155/155 [==============================] - 10s 61ms/step - loss: 0.2586 - mae: 0.3690 - rmsle_cust: 0.0555\n",
      "Epoch 11/20\n",
      "155/155 [==============================] - 10s 62ms/step - loss: 0.2360 - mae: 0.3532 - rmsle_cust: 0.0522\n",
      "Epoch 12/20\n",
      "155/155 [==============================] - 9s 61ms/step - loss: 0.1984 - mae: 0.3252 - rmsle_cust: 0.0457\n",
      "Epoch 13/20\n",
      "155/155 [==============================] - 10s 65ms/step - loss: 0.1764 - mae: 0.3020 - rmsle_cust: 0.0405\n",
      "Epoch 14/20\n",
      "155/155 [==============================] - 10s 62ms/step - loss: 0.1656 - mae: 0.2914 - rmsle_cust: 0.0384\n",
      "Epoch 15/20\n",
      "155/155 [==============================] - 10s 62ms/step - loss: 0.1552 - mae: 0.2789 - rmsle_cust: 0.0364\n",
      "Epoch 16/20\n",
      "155/155 [==============================] - 10s 66ms/step - loss: 0.1341 - mae: 0.2631 - rmsle_cust: 0.0333\n",
      "Epoch 17/20\n",
      "155/155 [==============================] - 10s 62ms/step - loss: 0.1249 - mae: 0.2539 - rmsle_cust: 0.0311\n",
      "Epoch 18/20\n",
      "155/155 [==============================] - 10s 62ms/step - loss: 0.1163 - mae: 0.2475 - rmsle_cust: 0.0300\n",
      "Epoch 19/20\n",
      "155/155 [==============================] - 10s 64ms/step - loss: 0.1025 - mae: 0.2287 - rmsle_cust: 0.0274\n",
      "Epoch 20/20\n",
      "155/155 [==============================] - 10s 61ms/step - loss: 0.1002 - mae: 0.2258 - rmsle_cust: 0.0270\n"
     ]
    },
    {
     "data": {
      "text/plain": [
       "<keras.callbacks.History at 0x1c828455310>"
      ]
     },
     "execution_count": 120,
     "metadata": {},
     "output_type": "execute_result"
    }
   ],
   "source": [
    "epochs = 20\n",
    "model.fit(feed_data,y,epochs = epochs)"
   ]
  },
  {
   "cell_type": "code",
   "execution_count": 121,
   "id": "eb2fb4d0-6d67-4f14-ae22-db777428c9c8",
   "metadata": {},
   "outputs": [
    {
     "data": {
      "text/plain": [
       "count      4941.000000\n",
       "mean       1732.453957\n",
       "std        6047.012503\n",
       "min          51.000000\n",
       "25%         259.000000\n",
       "50%         415.000000\n",
       "75%         852.000000\n",
       "max      115000.000000\n",
       "Name: selling_price, dtype: float64"
      ]
     },
     "execution_count": 121,
     "metadata": {},
     "output_type": "execute_result"
    }
   ],
   "source": [
    "dataset.selling_price.describe()"
   ]
  },
  {
   "cell_type": "code",
   "execution_count": 122,
   "id": "025fda07-bef9-4cb5-9d06-76e5d421f573",
   "metadata": {},
   "outputs": [
    {
     "name": "stdout",
     "output_type": "stream",
     "text": [
      "155/155 [==============================] - 3s 11ms/step\n"
     ]
    }
   ],
   "source": [
    "y_pred = model.predict(feed_data)"
   ]
  },
  {
   "cell_type": "code",
   "execution_count": 123,
   "id": "17fa9c1d-c994-42e3-9029-b531099afaf3",
   "metadata": {},
   "outputs": [],
   "source": [
    "y_pred = target_scaler.inverse_transform(y_pred)\n",
    "y_pred = np.exp(y_pred)+1"
   ]
  },
  {
   "cell_type": "code",
   "execution_count": 124,
   "id": "6dd8227a-9958-450b-8cfe-3155a5be67c2",
   "metadata": {},
   "outputs": [],
   "source": [
    "def rmsle(y, y_pred):\n",
    "    assert len(y) == len(y_pred)\n",
    "    to_sum = [(math.log(y_pred[i] + 1) - math.log(y[i] + 1)) ** 2.0 for i,pred in enumerate(y_pred)]\n",
    "    return (sum(to_sum) * (1.0/len(y))) ** 0.5"
   ]
  },
  {
   "cell_type": "code",
   "execution_count": 125,
   "id": "0e6a95a1-4914-4acb-89ac-0cecb89554ef",
   "metadata": {},
   "outputs": [],
   "source": [
    "from sklearn.metrics import mean_absolute_error as mae"
   ]
  },
  {
   "cell_type": "code",
   "execution_count": 126,
   "id": "bf27d9d7-28f2-42db-af79-ebbdd68ea97e",
   "metadata": {},
   "outputs": [
    {
     "name": "stdout",
     "output_type": "stream",
     "text": [
      "0.4550063135734084\n",
      "700.3424244942247\n"
     ]
    }
   ],
   "source": [
    "print(rmsle(dataset.selling_price, y_pred))\n",
    "print(mae(dataset.selling_price,y_pred))"
   ]
  },
  {
   "cell_type": "code",
   "execution_count": 40,
   "id": "7cfcda5c-4a8b-442a-b650-d6ceda1cc592",
   "metadata": {},
   "outputs": [],
   "source": [
    "model.save('seperate_embed_rmlse_0.33_mae_498.h5')"
   ]
  },
  {
   "cell_type": "code",
   "execution_count": null,
   "id": "2a35cfbf-7ec2-4ef1-9fde-6d8d2744d36e",
   "metadata": {},
   "outputs": [],
   "source": []
  },
  {
   "cell_type": "code",
   "execution_count": null,
   "id": "6bc54adf-3ad3-43c8-b295-7cd53595590c",
   "metadata": {},
   "outputs": [],
   "source": []
  },
  {
   "cell_type": "markdown",
   "id": "be09f517-1f02-4bbc-8422-f13eda515a08",
   "metadata": {},
   "source": [
    "### sparse NN"
   ]
  },
  {
   "cell_type": "code",
   "execution_count": 140,
   "id": "5c03dd15-76b3-412e-a983-570ec688719e",
   "metadata": {},
   "outputs": [],
   "source": [
    "from keras.layers import PReLU\n",
    "from keras.initializers import he_uniform"
   ]
  },
  {
   "cell_type": "code",
   "execution_count": 141,
   "id": "5dd15937-edd9-4fbe-a477-fff3e508557c",
   "metadata": {},
   "outputs": [
    {
     "name": "stdout",
     "output_type": "stream",
     "text": [
      "Model: \"model_8\"\n",
      "__________________________________________________________________________________________________\n",
      " Layer (type)                   Output Shape         Param #     Connected to                     \n",
      "==================================================================================================\n",
      " name (InputLayer)              [(None, 32)]         0           []                               \n",
      "                                                                                                  \n",
      " item_desc (InputLayer)         [(None, 64)]         0           []                               \n",
      "                                                                                                  \n",
      " dense_36 (Dense)               (None, 200)          6600        ['name[0][0]']                   \n",
      "                                                                                                  \n",
      " dense_37 (Dense)               (None, 200)          13000       ['item_desc[0][0]']              \n",
      "                                                                                                  \n",
      " p_re_lu_12 (PReLU)             (None, 200)          200         ['dense_36[0][0]']               \n",
      "                                                                                                  \n",
      " p_re_lu_13 (PReLU)             (None, 200)          200         ['dense_37[0][0]']               \n",
      "                                                                                                  \n",
      " category_2 (InputLayer)        [(None, 1)]          0           []                               \n",
      "                                                                                                  \n",
      " category_3 (InputLayer)        [(None, 1)]          0           []                               \n",
      "                                                                                                  \n",
      " concatenate_9 (Concatenate)    (None, 402)          0           ['p_re_lu_12[0][0]',             \n",
      "                                                                  'p_re_lu_13[0][0]',             \n",
      "                                                                  'category_2[0][0]',             \n",
      "                                                                  'category_3[0][0]']             \n",
      "                                                                                                  \n",
      " dense_38 (Dense)               (None, 200)          80600       ['concatenate_9[0][0]']          \n",
      "                                                                                                  \n",
      " p_re_lu_14 (PReLU)             (None, 200)          200         ['dense_38[0][0]']               \n",
      "                                                                                                  \n",
      " dense_39 (Dense)               (None, 100)          20100       ['p_re_lu_14[0][0]']             \n",
      "                                                                                                  \n",
      " p_re_lu_15 (PReLU)             (None, 100)          100         ['dense_39[0][0]']               \n",
      "                                                                                                  \n",
      " dense_40 (Dense)               (None, 1)            101         ['p_re_lu_15[0][0]']             \n",
      "                                                                                                  \n",
      "==================================================================================================\n",
      "Total params: 121,101\n",
      "Trainable params: 121,101\n",
      "Non-trainable params: 0\n",
      "__________________________________________________________________________________________________\n"
     ]
    }
   ],
   "source": [
    "def get_model_sparse():\n",
    "    #params\n",
    "    #Inputs\n",
    "    name = Input(shape=[x_title.shape[1]], name=\"name\")\n",
    "    item_desc = Input(shape=[x_description.shape[1]], name=\"item_desc\")\n",
    "    category_1 = Input(shape=[1], name=\"category_2\")\n",
    "    category_2 = Input(shape=[1], name=\"category_3\")\n",
    "    \n",
    "    x = Dense(200 , kernel_initializer=he_uniform(seed=0) )(name)\n",
    "    x2 = Dense(200 , kernel_initializer=he_uniform(seed=0) )(item_desc)\n",
    "    x = PReLU()(x)\n",
    "    x2 = PReLU()(x2)\n",
    "    x = concatenate( [x,x2, category_1, category_2] ) \n",
    "    x = Dense(200 , kernel_initializer=he_uniform(seed=0) )(x)\n",
    "    x = PReLU()(x)\n",
    "    x = Dense(100 , kernel_initializer=he_uniform(seed=0) )(x)\n",
    "    x = PReLU()(x)\n",
    "    output= Dense(1)(x)\n",
    "    \n",
    "    \n",
    "    #model\n",
    "    model = Model([name,item_desc,category_1,category_2], output) #name, item_desc, category_1, category_2\n",
    "    optimizer = keras.optimizers.Adam(learning_rate=0.0011)\n",
    "    model.compile(loss=\"mse\", optimizer=optimizer, metrics=[\"mae\", rmsle_cust])\n",
    "    return model\n",
    "\n",
    "    \n",
    "model = get_model_sparse()\n",
    "model.summary()"
   ]
  },
  {
   "cell_type": "code",
   "execution_count": 142,
   "id": "5322499d-da25-4803-b9c8-b205f48f0bee",
   "metadata": {},
   "outputs": [],
   "source": [
    "#shrinking y better look of mae, mse\n",
    "y = dataset.selling_price.to_numpy()\n",
    "y = np.log(y+1)\n",
    "target_scaler = MinMaxScaler(feature_range=(-1, 1))\n",
    "y = target_scaler.fit_transform(y.reshape(-1,1))"
   ]
  },
  {
   "cell_type": "code",
   "execution_count": 143,
   "id": "af13fdda-3cf8-439d-9f9e-9cb47d32bd12",
   "metadata": {},
   "outputs": [
    {
     "name": "stdout",
     "output_type": "stream",
     "text": [
      "Epoch 1/32\n",
      "155/155 [==============================] - 2s 5ms/step - loss: 1156604.7500 - mae: 595.9512 - rmsle_cust: 2.8719\n",
      "Epoch 2/32\n",
      "155/155 [==============================] - 1s 6ms/step - loss: 79362.4375 - mae: 206.9427 - rmsle_cust: 2.4624\n",
      "Epoch 3/32\n",
      "155/155 [==============================] - 1s 5ms/step - loss: 34765.4648 - mae: 141.1363 - rmsle_cust: 2.2597\n",
      "Epoch 4/32\n",
      "155/155 [==============================] - 1s 5ms/step - loss: 18891.4043 - mae: 104.6704 - rmsle_cust: 2.1035\n",
      "Epoch 5/32\n",
      "155/155 [==============================] - 1s 6ms/step - loss: 12137.1104 - mae: 85.2363 - rmsle_cust: 2.0061\n",
      "Epoch 6/32\n",
      "155/155 [==============================] - 1s 6ms/step - loss: 8692.1094 - mae: 72.4745 - rmsle_cust: 1.9557\n",
      "Epoch 7/32\n",
      "155/155 [==============================] - 1s 6ms/step - loss: 6103.3301 - mae: 60.4077 - rmsle_cust: 1.8620\n",
      "Epoch 8/32\n",
      "155/155 [==============================] - 1s 6ms/step - loss: 4660.4136 - mae: 53.1726 - rmsle_cust: 1.8094\n",
      "Epoch 9/32\n",
      "155/155 [==============================] - 1s 6ms/step - loss: 3731.5110 - mae: 47.4019 - rmsle_cust: 1.7410\n",
      "Epoch 10/32\n",
      "155/155 [==============================] - 1s 5ms/step - loss: 3020.9265 - mae: 42.4736 - rmsle_cust: 1.6929\n",
      "Epoch 11/32\n",
      "155/155 [==============================] - 1s 6ms/step - loss: 2419.4380 - mae: 37.9113 - rmsle_cust: 1.6127\n",
      "Epoch 12/32\n",
      "155/155 [==============================] - 1s 6ms/step - loss: 2041.3809 - mae: 34.7909 - rmsle_cust: 1.6081\n",
      "Epoch 13/32\n",
      "155/155 [==============================] - 1s 6ms/step - loss: 1937.3959 - mae: 33.5775 - rmsle_cust: 1.5802\n",
      "Epoch 14/32\n",
      "155/155 [==============================] - 1s 6ms/step - loss: 1617.2410 - mae: 30.3185 - rmsle_cust: 1.5223\n",
      "Epoch 15/32\n",
      "155/155 [==============================] - 1s 6ms/step - loss: 2610.4070 - mae: 35.6500 - rmsle_cust: 1.5975\n",
      "Epoch 16/32\n",
      "155/155 [==============================] - 1s 6ms/step - loss: 2975.4385 - mae: 36.2253 - rmsle_cust: 1.5761\n",
      "Epoch 17/32\n",
      "155/155 [==============================] - 1s 6ms/step - loss: 1882.9038 - mae: 31.6657 - rmsle_cust: 1.5327\n",
      "Epoch 18/32\n",
      "155/155 [==============================] - 1s 6ms/step - loss: 1559.6206 - mae: 28.8453 - rmsle_cust: 1.4977\n",
      "Epoch 19/32\n",
      "155/155 [==============================] - 1s 6ms/step - loss: 1094.7595 - mae: 24.0181 - rmsle_cust: 1.4134\n",
      "Epoch 20/32\n",
      "155/155 [==============================] - 1s 6ms/step - loss: 962.3688 - mae: 22.6721 - rmsle_cust: 1.3848\n",
      "Epoch 21/32\n",
      "155/155 [==============================] - 1s 4ms/step - loss: 792.0592 - mae: 20.5177 - rmsle_cust: 1.3584\n",
      "Epoch 22/32\n",
      "155/155 [==============================] - 1s 4ms/step - loss: 1001.4108 - mae: 21.8027 - rmsle_cust: 1.3412\n",
      "Epoch 23/32\n",
      "155/155 [==============================] - 1s 6ms/step - loss: 1057.1407 - mae: 22.4449 - rmsle_cust: 1.3656\n",
      "Epoch 24/32\n",
      "155/155 [==============================] - 1s 6ms/step - loss: 891.3441 - mae: 20.8016 - rmsle_cust: 1.3613\n",
      "Epoch 25/32\n",
      "155/155 [==============================] - 1s 6ms/step - loss: 829.8516 - mae: 19.1971 - rmsle_cust: 1.3164\n",
      "Epoch 26/32\n",
      "155/155 [==============================] - 1s 6ms/step - loss: 916.6347 - mae: 19.7854 - rmsle_cust: 1.3249\n",
      "Epoch 27/32\n",
      "155/155 [==============================] - 1s 6ms/step - loss: 644.8516 - mae: 18.3931 - rmsle_cust: 1.2732\n",
      "Epoch 28/32\n",
      "155/155 [==============================] - 1s 6ms/step - loss: 460.9846 - mae: 15.2670 - rmsle_cust: 1.1974\n",
      "Epoch 29/32\n",
      "155/155 [==============================] - 1s 6ms/step - loss: 511.0596 - mae: 15.5467 - rmsle_cust: 1.2249\n",
      "Epoch 30/32\n",
      "155/155 [==============================] - 1s 6ms/step - loss: 799.0571 - mae: 18.2383 - rmsle_cust: 1.2422\n",
      "Epoch 31/32\n",
      "155/155 [==============================] - 1s 6ms/step - loss: 745.6413 - mae: 18.8283 - rmsle_cust: 1.2954\n",
      "Epoch 32/32\n",
      "155/155 [==============================] - 1s 6ms/step - loss: 223.1800 - mae: 10.6215 - rmsle_cust: 1.0244\n"
     ]
    },
    {
     "data": {
      "text/plain": [
       "<keras.callbacks.History at 0x1c8300bdfd0>"
      ]
     },
     "execution_count": 143,
     "metadata": {},
     "output_type": "execute_result"
    }
   ],
   "source": [
    "epochs = 32\n",
    "model.fit(feed_data,y,epochs = epochs)"
   ]
  },
  {
   "cell_type": "code",
   "execution_count": 144,
   "id": "65b3c9ca-7096-45c0-bbf1-9b7e329ea850",
   "metadata": {},
   "outputs": [
    {
     "name": "stdout",
     "output_type": "stream",
     "text": [
      "155/155 [==============================] - 1s 3ms/step\n"
     ]
    }
   ],
   "source": [
    "y_pred = model.predict(feed_data)"
   ]
  },
  {
   "cell_type": "code",
   "execution_count": 145,
   "id": "31e83d81-70a5-4b7b-8b42-2aa12b3375b4",
   "metadata": {},
   "outputs": [],
   "source": [
    "from numpy import inf"
   ]
  },
  {
   "cell_type": "code",
   "execution_count": 146,
   "id": "c961225c-6ca1-4bba-a120-2a612c5e0636",
   "metadata": {},
   "outputs": [
    {
     "name": "stderr",
     "output_type": "stream",
     "text": [
      "C:\\Users\\priya\\AppData\\Local\\Temp\\ipykernel_21332\\2058861644.py:2: RuntimeWarning: overflow encountered in exp\n",
      "  y_pred = np.exp(y_pred)+1\n"
     ]
    }
   ],
   "source": [
    "y_pred = target_scaler.inverse_transform(y_pred)\n",
    "y_pred = np.exp(y_pred)+1"
   ]
  },
  {
   "cell_type": "code",
   "execution_count": 147,
   "id": "0eada2bf-3384-47d8-9681-f6647af0157b",
   "metadata": {},
   "outputs": [],
   "source": [
    "y_pred = pd.DataFrame(y_pred).replace(to_replace=inf,value = sys.maxsize).to_numpy()"
   ]
  },
  {
   "cell_type": "code",
   "execution_count": null,
   "id": "2c0ec639-6836-4fc5-9a16-efbd6e351bc0",
   "metadata": {},
   "outputs": [],
   "source": []
  },
  {
   "cell_type": "code",
   "execution_count": 148,
   "id": "be5c7956-767f-4745-8c5f-d56f6bf03494",
   "metadata": {},
   "outputs": [
    {
     "name": "stdout",
     "output_type": "stream",
     "text": [
      "23.393193914782945\n",
      "4.013658954352379e+35\n"
     ]
    }
   ],
   "source": [
    "print(rmsle(dataset.selling_price, y_pred))\n",
    "print(mae(dataset.selling_price,y_pred))"
   ]
  },
  {
   "cell_type": "code",
   "execution_count": 149,
   "id": "7350eb6e-146d-4283-ad8c-15589d177897",
   "metadata": {},
   "outputs": [],
   "source": [
    "model.save('sparse_nn_rmlse_23.39_mae_e+35.h5')"
   ]
  },
  {
   "cell_type": "code",
   "execution_count": null,
   "id": "506ada23-2075-43e9-b008-29e419e05c0c",
   "metadata": {},
   "outputs": [],
   "source": []
  },
  {
   "cell_type": "markdown",
   "id": "6aa75d6e-edfa-4435-b971-8c9c9cf392c2",
   "metadata": {},
   "source": [
    "### FastText"
   ]
  },
  {
   "cell_type": "code",
   "execution_count": 150,
   "id": "726da44f-0719-4495-97e8-91b03e1cbc54",
   "metadata": {},
   "outputs": [],
   "source": [
    "max_name = np.max(x_title)+1\n",
    "max_desp = np.max(x_description)+1\n",
    "max_cat2=np.max(cat2)+1\n",
    "max_cat3=np.max(cat3)+1\n",
    "max_text = max(max_name,max_desp)"
   ]
  },
  {
   "cell_type": "code",
   "execution_count": 151,
   "id": "6b95a1eb-14df-4446-91a2-779ddb47d5db",
   "metadata": {},
   "outputs": [],
   "source": [
    "from keras.layers import GlobalMaxPooling1D, GlobalAveragePooling1D"
   ]
  },
  {
   "cell_type": "code",
   "execution_count": 152,
   "id": "a05f0b1e-a295-40fb-b644-e49dbe239cc8",
   "metadata": {},
   "outputs": [
    {
     "name": "stdout",
     "output_type": "stream",
     "text": [
      "Model: \"model_9\"\n",
      "__________________________________________________________________________________________________\n",
      " Layer (type)                   Output Shape         Param #     Connected to                     \n",
      "==================================================================================================\n",
      " name (InputLayer)              [(None, 32)]         0           []                               \n",
      "                                                                                                  \n",
      " item_desc (InputLayer)         [(None, 64)]         0           []                               \n",
      "                                                                                                  \n",
      " category_2 (InputLayer)        [(None, 1)]          0           []                               \n",
      "                                                                                                  \n",
      " category_3 (InputLayer)        [(None, 1)]          0           []                               \n",
      "                                                                                                  \n",
      " embedding_20 (Embedding)       multiple             1141700     ['name[0][0]',                   \n",
      "                                                                  'item_desc[0][0]']              \n",
      "                                                                                                  \n",
      " embedding_21 (Embedding)       (None, 1, 10)        560         ['category_2[0][0]']             \n",
      "                                                                                                  \n",
      " embedding_22 (Embedding)       (None, 1, 10)        1960        ['category_3[0][0]']             \n",
      "                                                                                                  \n",
      " output_name_max (GlobalAverage  (None, 50)          0           ['embedding_20[0][0]']           \n",
      " Pooling1D)                                                                                       \n",
      "                                                                                                  \n",
      " output_item_max (GlobalAverage  (None, 50)          0           ['embedding_20[1][0]']           \n",
      " Pooling1D)                                                                                       \n",
      "                                                                                                  \n",
      " flatten_15 (Flatten)           (None, 10)           0           ['embedding_21[0][0]']           \n",
      "                                                                                                  \n",
      " flatten_16 (Flatten)           (None, 10)           0           ['embedding_22[0][0]']           \n",
      "                                                                                                  \n",
      " concatenate_10 (Concatenate)   (None, 120)          0           ['output_name_max[0][0]',        \n",
      "                                                                  'output_item_max[0][0]',        \n",
      "                                                                  'flatten_15[0][0]',             \n",
      "                                                                  'flatten_16[0][0]']             \n",
      "                                                                                                  \n",
      " batch_normalization_3 (BatchNo  (None, 120)         480         ['concatenate_10[0][0]']         \n",
      " rmalization)                                                                                     \n",
      "                                                                                                  \n",
      " dense_41 (Dense)               (None, 1024)         123904      ['batch_normalization_3[0][0]']  \n",
      "                                                                                                  \n",
      " activation_3 (Activation)      (None, 1024)         0           ['dense_41[0][0]']               \n",
      "                                                                                                  \n",
      " dense_42 (Dense)               (None, 1)            1025        ['activation_3[0][0]']           \n",
      "                                                                                                  \n",
      "==================================================================================================\n",
      "Total params: 1,269,629\n",
      "Trainable params: 1,269,389\n",
      "Non-trainable params: 240\n",
      "__________________________________________________________________________________________________\n"
     ]
    }
   ],
   "source": [
    "def get_model():\n",
    "    #params\n",
    "    dr_r = 0.1\n",
    "    \n",
    "    #Inputs\n",
    "    name = Input(shape=[x_title.shape[1]], name=\"name\")\n",
    "    item_desc = Input(shape=[x_description.shape[1]], name=\"item_desc\")\n",
    "    category2 = Input(shape=[1], name=\"category_2\")\n",
    "    category3 = Input(shape=[1], name=\"category_3\")\n",
    "    \n",
    "    #Embeddings layers\n",
    "\n",
    "    shared_embedding = Embedding(max_text, 50)    \n",
    "    emb_name = shared_embedding (name)\n",
    "    emb_item_desc = shared_embedding (item_desc)\n",
    "    \n",
    "    val=10\n",
    "    emb_category2 = Flatten() ( Embedding(max_cat2, val)(category2) )\n",
    "    emb_category3 = Flatten() ( Embedding(max_cat3, val)(category3) )\n",
    "    \n",
    "    emb_name = GlobalAveragePooling1D( name='output_name_max' )(emb_name)\n",
    "    emb_item_desc = GlobalAveragePooling1D(name='output_item_max' )(emb_item_desc)\n",
    "\n",
    "    x = concatenate([emb_name,emb_item_desc,emb_category2,emb_category3])\n",
    "    x = BatchNormalization()(x)\n",
    "    x = Dense(1024)(x)\n",
    "    x = Activation('relu')(x)\n",
    "\n",
    "    output = Dense(1, activation=\"linear\") (x)\n",
    "    model = Model([name,item_desc,category2,category3], output)\n",
    "    optimizer = keras.optimizers.Adam(learning_rate=0.02)\n",
    "    model.compile(loss=\"mse\", optimizer=optimizer, metrics=[\"mae\", rmsle_cust])\n",
    "\n",
    "    return model\n",
    "    \n",
    "model = get_model()\n",
    "model.summary()"
   ]
  },
  {
   "cell_type": "code",
   "execution_count": 153,
   "id": "a57c7a17-6fd5-44f9-b444-1caf98f3d764",
   "metadata": {},
   "outputs": [],
   "source": [
    "#shrinking y better look of mae, mse\n",
    "y = dataset.selling_price.to_numpy()\n",
    "y = np.log(y+1)\n",
    "target_scaler = MinMaxScaler(feature_range=(-1, 1))\n",
    "y = target_scaler.fit_transform(y.reshape(-1,1))"
   ]
  },
  {
   "cell_type": "code",
   "execution_count": 154,
   "id": "5367a637-45a6-4ef8-8931-4c3538caaa58",
   "metadata": {},
   "outputs": [
    {
     "name": "stdout",
     "output_type": "stream",
     "text": [
      "Epoch 1/20\n",
      "155/155 [==============================] - 5s 20ms/step - loss: 0.5506 - mae: 0.4053 - rmsle_cust: 0.0701\n",
      "Epoch 2/20\n",
      "155/155 [==============================] - 3s 20ms/step - loss: 0.0339 - mae: 0.1313 - rmsle_cust: 0.0155\n",
      "Epoch 3/20\n",
      "155/155 [==============================] - 3s 20ms/step - loss: 0.0185 - mae: 0.0987 - rmsle_cust: 0.0112\n",
      "Epoch 4/20\n",
      "155/155 [==============================] - 3s 20ms/step - loss: 0.0164 - mae: 0.0889 - rmsle_cust: 0.0095\n",
      "Epoch 5/20\n",
      "155/155 [==============================] - 3s 19ms/step - loss: 0.0122 - mae: 0.0819 - rmsle_cust: 0.0090\n",
      "Epoch 6/20\n",
      "155/155 [==============================] - 3s 20ms/step - loss: 0.0098 - mae: 0.0744 - rmsle_cust: 0.0089\n",
      "Epoch 7/20\n",
      "155/155 [==============================] - 3s 21ms/step - loss: 0.0080 - mae: 0.0662 - rmsle_cust: 0.0084\n",
      "Epoch 8/20\n",
      "155/155 [==============================] - 3s 20ms/step - loss: 0.0071 - mae: 0.0618 - rmsle_cust: 0.0081\n",
      "Epoch 9/20\n",
      "155/155 [==============================] - 3s 20ms/step - loss: 0.0082 - mae: 0.0665 - rmsle_cust: 0.0084\n",
      "Epoch 10/20\n",
      "155/155 [==============================] - 3s 19ms/step - loss: 0.0067 - mae: 0.0606 - rmsle_cust: 0.0075\n",
      "Epoch 11/20\n",
      "155/155 [==============================] - 3s 21ms/step - loss: 0.0064 - mae: 0.0578 - rmsle_cust: 0.0080\n",
      "Epoch 12/20\n",
      "155/155 [==============================] - 3s 22ms/step - loss: 0.0073 - mae: 0.0625 - rmsle_cust: 0.0081\n",
      "Epoch 13/20\n",
      "155/155 [==============================] - 3s 22ms/step - loss: 0.0073 - mae: 0.0614 - rmsle_cust: 0.0088\n",
      "Epoch 14/20\n",
      "155/155 [==============================] - 3s 20ms/step - loss: 0.0063 - mae: 0.0564 - rmsle_cust: 0.0081\n",
      "Epoch 15/20\n",
      "155/155 [==============================] - 3s 17ms/step - loss: 0.0071 - mae: 0.0626 - rmsle_cust: 0.0081\n",
      "Epoch 16/20\n",
      "155/155 [==============================] - 2s 15ms/step - loss: 0.0083 - mae: 0.0670 - rmsle_cust: 0.0091\n",
      "Epoch 17/20\n",
      "155/155 [==============================] - 3s 17ms/step - loss: 0.0065 - mae: 0.0578 - rmsle_cust: 0.0082\n",
      "Epoch 18/20\n",
      "155/155 [==============================] - 2s 16ms/step - loss: 0.0061 - mae: 0.0569 - rmsle_cust: 0.0077\n",
      "Epoch 19/20\n",
      "155/155 [==============================] - 3s 16ms/step - loss: 0.0058 - mae: 0.0560 - rmsle_cust: 0.0074\n",
      "Epoch 20/20\n",
      "155/155 [==============================] - 3s 17ms/step - loss: 0.0054 - mae: 0.0554 - rmsle_cust: 0.0069\n"
     ]
    },
    {
     "data": {
      "text/plain": [
       "<keras.callbacks.History at 0x1c8281f8b50>"
      ]
     },
     "execution_count": 154,
     "metadata": {},
     "output_type": "execute_result"
    }
   ],
   "source": [
    "epochs = 20\n",
    "model.fit(feed_data,y,epochs = epochs)"
   ]
  },
  {
   "cell_type": "code",
   "execution_count": null,
   "id": "67c37b12-0c05-4062-b140-7c3dd2102977",
   "metadata": {},
   "outputs": [],
   "source": []
  },
  {
   "cell_type": "code",
   "execution_count": 155,
   "id": "ac84eb9a-6c72-42f4-aa33-e3ece4115791",
   "metadata": {
    "tags": []
   },
   "outputs": [
    {
     "name": "stdout",
     "output_type": "stream",
     "text": [
      "155/155 [==============================] - 0s 2ms/step\n"
     ]
    }
   ],
   "source": [
    "y_pred = model.predict(feed_data)"
   ]
  },
  {
   "cell_type": "code",
   "execution_count": 156,
   "id": "f6683f7a-ad6d-4cec-930b-3e7b596b6335",
   "metadata": {},
   "outputs": [],
   "source": [
    "y_pred = target_scaler.inverse_transform(y_pred)\n",
    "y_pred = np.exp(y_pred)+1"
   ]
  },
  {
   "cell_type": "code",
   "execution_count": 157,
   "id": "a054365c-0e62-4c13-b915-294f32f009ca",
   "metadata": {},
   "outputs": [
    {
     "name": "stdout",
     "output_type": "stream",
     "text": [
      "0.21314806327022268\n",
      "874.3683530610236\n"
     ]
    }
   ],
   "source": [
    "print(rmsle(dataset.selling_price, y_pred))\n",
    "print(mae(dataset.selling_price,y_pred))"
   ]
  },
  {
   "cell_type": "code",
   "execution_count": 158,
   "id": "9b6216f7-4917-4a26-8cbd-592f7a0bfb3c",
   "metadata": {},
   "outputs": [],
   "source": [
    "model.save('fasttext_rmlse_0.213_mae_874.368.h5')"
   ]
  },
  {
   "cell_type": "code",
   "execution_count": null,
   "id": "0416ca56-b256-49c7-a788-844ba353f5bd",
   "metadata": {},
   "outputs": [],
   "source": []
  }
 ],
 "metadata": {
  "kernelspec": {
   "display_name": "Python 3 (ipykernel)",
   "language": "python",
   "name": "python3"
  },
  "language_info": {
   "codemirror_mode": {
    "name": "ipython",
    "version": 3
   },
   "file_extension": ".py",
   "mimetype": "text/x-python",
   "name": "python",
   "nbconvert_exporter": "python",
   "pygments_lexer": "ipython3",
   "version": "3.10.9"
  }
 },
 "nbformat": 4,
 "nbformat_minor": 5
}
